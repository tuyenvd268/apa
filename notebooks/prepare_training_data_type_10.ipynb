{
 "cells": [
  {
   "cell_type": "code",
   "execution_count": null,
   "metadata": {},
   "outputs": [],
   "source": [
    "import json\n",
    "import pandas as pd"
   ]
  },
  {
   "cell_type": "code",
   "execution_count": null,
   "metadata": {},
   "outputs": [],
   "source": [
    "path = \"/data/codes/prep_ps_pykaldi/prep_data/jsonl_v1/info_in_domain_long_sentence_testset_old.jsonl\"\n",
    "with open(path, \"r\", encoding=\"utf-8\") as f:\n",
    "    lines = [json.loads(line.strip()) for line in f.readlines()]\n",
    "\n",
    "df = pd.DataFrame(lines)\n",
    "df.head()"
   ]
  },
  {
   "cell_type": "code",
   "execution_count": null,
   "metadata": {},
   "outputs": [],
   "source": [
    "df[[\"id\", \"text\"]].to_csv(\"/data/codes/prep_ps_pykaldi/prep_data/info_in_domain_long_sentence_testset_old.csv\", sep=\"|\", index=None, header=None)"
   ]
  },
  {
   "cell_type": "markdown",
   "metadata": {},
   "source": [
    "#### audio processing"
   ]
  },
  {
   "cell_type": "code",
   "execution_count": null,
   "metadata": {},
   "outputs": [],
   "source": [
    "import pandas as pd\n",
    "import torchaudio\n",
    "import librosa\n",
    "import shutil\n",
    "import json\n",
    "import os\n",
    "\n",
    "from pandarallel import pandarallel\n",
    "pandarallel.initialize(nb_workers=8, progress_bar=True)"
   ]
  },
  {
   "cell_type": "code",
   "execution_count": null,
   "metadata": {},
   "outputs": [],
   "source": [
    "audio_dir = \"/data/codes/prep_ps_pykaldi/prep_data/wav\"\n",
    "audio_files = os.listdir(audio_dir)\n",
    "audio_files = [audio_file.split(\".\")[0] for audio_file in audio_files]\n",
    "audio_files = set(audio_files)"
   ]
  },
  {
   "cell_type": "code",
   "execution_count": null,
   "metadata": {},
   "outputs": [],
   "source": [
    "path = \"/data/codes/prep_ps_pykaldi/prep_data/info_in_domain_long_sentence_testset.csv\"\n",
    "df = pd.read_csv(path, names=[\"id\", \"text\"], sep=\"|\")\n",
    "df.head()"
   ]
  },
  {
   "cell_type": "code",
   "execution_count": null,
   "metadata": {},
   "outputs": [],
   "source": [
    "df.id.parallel_apply(lambda x: str(x) in audio_files).sum()"
   ]
  },
  {
   "cell_type": "code",
   "execution_count": null,
   "metadata": {},
   "outputs": [],
   "source": [
    "in_dir = \"/data/audio_data/prep_submission_audio/10\"\n",
    "out_dir = audio_dir\n",
    "\n",
    "def copy_audio(id):\n",
    "    path = f'{in_dir}/{id}.wav'\n",
    "    wav, sr = torchaudio.load(path)\n",
    "    if sr == 8000:\n",
    "        return False\n",
    "    return True\n",
    "    \n",
    "\n",
    "is_success = df.id.parallel_apply(copy_audio)"
   ]
  },
  {
   "cell_type": "code",
   "execution_count": null,
   "metadata": {},
   "outputs": [],
   "source": [
    "df[~is_success]"
   ]
  }
 ],
 "metadata": {
  "kernelspec": {
   "display_name": "ps",
   "language": "python",
   "name": "python3"
  },
  "language_info": {
   "codemirror_mode": {
    "name": "ipython",
    "version": 3
   },
   "file_extension": ".py",
   "mimetype": "text/x-python",
   "name": "python",
   "nbconvert_exporter": "python",
   "pygments_lexer": "ipython3",
   "version": "3.8.17"
  }
 },
 "nbformat": 4,
 "nbformat_minor": 2
}
