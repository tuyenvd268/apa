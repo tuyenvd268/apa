{
 "cells": [
  {
   "cell_type": "code",
   "execution_count": 61,
   "metadata": {},
   "outputs": [
    {
     "name": "stdout",
     "output_type": "stream",
     "text": [
      "/data/codes/prep_ps_pykaldi\n"
     ]
    }
   ],
   "source": [
    "%cd /data/codes/prep_ps_pykaldi/\n",
    "from sklearn.metrics import (\n",
    "    classification_report, \n",
    "    confusion_matrix, \n",
    "    ConfusionMatrixDisplay\n",
    ")\n",
    "import matplotlib.pyplot as plt\n",
    "from tqdm import tqdm\n",
    "import pandas as pd\n",
    "import numpy as np\n",
    "import torch\n",
    "\n",
    "import pickle\n",
    "import json\n",
    "import re\n",
    "\n",
    "from torch.utils.data import DataLoader\n",
    "from torch import nn\n",
    "\n",
    "from src.dataset import PrepDataset\n",
    "import os"
   ]
  },
  {
   "cell_type": "code",
   "execution_count": 62,
   "metadata": {},
   "outputs": [],
   "source": [
    "def convert_score_to_color(score, YELLOW_GREEN=80/50, RED_YELLOW=30/50):\n",
    "    if RED_YELLOW is not None:\n",
    "        LABEL2ID = {\"GREEN\": 0, \"YELLOW\": 1, \"RED\":2}\n",
    "        red_index = score < RED_YELLOW\n",
    "        yellow_index = ((score >= RED_YELLOW).int() & (score < YELLOW_GREEN).int()).bool()\n",
    "        green_index = score >= YELLOW_GREEN\n",
    "    else:\n",
    "        LABEL2ID = {\"GREEN\": 0, \"YELLOW\": 1, \"RED\":1}\n",
    "        RED_YELLOW = 30/50\n",
    "        red_index = score < RED_YELLOW\n",
    "        yellow_index = ((score >= RED_YELLOW).int() & (score < YELLOW_GREEN).int()).bool()\n",
    "        green_index = score >= YELLOW_GREEN\n",
    "\n",
    "\n",
    "    score[red_index] = LABEL2ID[\"RED\"]\n",
    "    score[yellow_index] = LABEL2ID[\"YELLOW\"]\n",
    "    score[green_index] = LABEL2ID[\"GREEN\"]\n",
    "\n",
    "    return score\n",
    "\n",
    "def load_data(data_dir):\n",
    "    phone_ids = np.load(f'{data_dir}/phone_ids.npy')\n",
    "    word_ids = np.load(f'{data_dir}/word_ids.npy')\n",
    "    \n",
    "    phone_scores = np.load(f'{data_dir}/phone_scores.npy')\n",
    "    word_scores = np.load(f'{data_dir}/word_scores.npy')\n",
    "    sentence_scores = np.load(f'{data_dir}/sentence_scores.npy')\n",
    "\n",
    "    durations = np.load(f'{data_dir}/duration.npy')\n",
    "    gops = np.load(f'{data_dir}/gop.npy')\n",
    "    wavlm_features = np.load(f'{data_dir}/wavlm_features.npy')\n",
    "\n",
    "    return phone_ids, word_ids, phone_scores, word_scores, sentence_scores, durations, gops, wavlm_features\n"
   ]
  },
  {
   "cell_type": "code",
   "execution_count": 63,
   "metadata": {},
   "outputs": [],
   "source": [
    "from torch.utils.data import Dataset, DataLoader\n",
    "from torch.optim import Adam\n",
    "from src.model import GOPT\n",
    "\n",
    "train_dir = \"/data/codes/prep_ps_pykaldi/exp/sm/prep\"\n",
    "\n",
    "phone_ids, word_ids, phone_scores, word_scores, \\\n",
    "    sentence_scores, durations, gops, wavlm_features = load_data(train_dir)\n",
    "trainset = PrepDataset(\n",
    "    phone_ids, word_ids, \n",
    "    phone_scores, word_scores, sentence_scores, \n",
    "    durations, gops, wavlm_features\n",
    "    )\n",
    "\n",
    "trainloader = DataLoader(trainset, batch_size=8, shuffle=True, drop_last=False)\n",
    "\n",
    "test_dir = \"/data/codes/prep_ps_pykaldi/exp/sm/prep\"\n",
    "phone_ids, word_ids, phone_scores, word_scores, \\\n",
    "    sentence_scores, durations, gops, wavlm_features = load_data(test_dir)\n",
    "testset = PrepDataset(\n",
    "    phone_ids, word_ids, \n",
    "    phone_scores, word_scores, sentence_scores, \n",
    "    durations, gops, wavlm_features\n",
    "    )\n",
    "\n",
    "testloader = DataLoader(testset, batch_size=8, shuffle=False, drop_last=True)"
   ]
  },
  {
   "cell_type": "code",
   "execution_count": 64,
   "metadata": {},
   "outputs": [],
   "source": [
    "embed_dim=32\n",
    "num_heads=1\n",
    "depth=3\n",
    "input_dim=851\n",
    "num_phone=62\n",
    "max_length=128\n",
    "\n",
    "lr=1e-3\n",
    "weight_decay=5e-7\n",
    "betas=(0.95, 0.999)\n",
    "\n",
    "device = torch.device(\"cuda\" if torch.cuda.is_available() else \"cpu\")\n",
    "\n",
    "gopt_model = GOPT(\n",
    "    embed_dim=embed_dim, num_heads=num_heads, \n",
    "    depth=depth, input_dim=input_dim, \n",
    "    max_length=max_length, num_phone=num_phone, dropout=0.1).to(device)\n",
    "\n",
    "trainables = [p for p in gopt_model.parameters() if p.requires_grad]\n",
    "\n",
    "optimizer = torch.optim.Adam(\n",
    "    trainables, lr, \n",
    "    weight_decay=weight_decay, \n",
    "    betas=betas\n",
    ")\n",
    "\n",
    "loss_fn = nn.MSELoss()"
   ]
  },
  {
   "cell_type": "code",
   "execution_count": 65,
   "metadata": {},
   "outputs": [],
   "source": [
    "def valid_phn(predict, target):\n",
    "    preds, targs = [], []\n",
    "\n",
    "    for i in range(predict.shape[0]):\n",
    "        for j in range(predict.shape[1]):\n",
    "            if target[i, j] >= 0:\n",
    "                preds.append(predict[i, j])\n",
    "                targs.append(target[i, j])\n",
    "    targs = np.array(targs)\n",
    "    preds = np.array(preds)\n",
    "\n",
    "    mse = np.mean((targs - preds) ** 2)\n",
    "    mae = np.mean(np.abs(targs - preds))\n",
    "    corr = np.corrcoef(preds, targs)[0, 1]\n",
    "    return mse, mae, corr\n"
   ]
  },
  {
   "cell_type": "code",
   "execution_count": 66,
   "metadata": {},
   "outputs": [],
   "source": [
    "def valid_wrd(predict, target, word_id):\n",
    "    preds, targs = [], []\n",
    "\n",
    "    for i in range(target.shape[0]):\n",
    "        prev_w_id, start_id = 0, 0\n",
    "        # for each token\n",
    "        for j in range(target.shape[1]):\n",
    "            cur_w_id = word_id[i, j].int()\n",
    "            # if a new word\n",
    "            if cur_w_id != prev_w_id:\n",
    "                # average each phone belongs to the word\n",
    "                preds.append(np.mean(predict[i, start_id: j].numpy(), axis=0))\n",
    "                targs.append(np.mean(target[i, start_id: j].numpy(), axis=0))\n",
    "\n",
    "                if cur_w_id == -1:\n",
    "                    break\n",
    "                else:\n",
    "                    prev_w_id = cur_w_id\n",
    "                    start_id = j\n",
    "\n",
    "    preds = np.array(preds)\n",
    "    targs = np.array(targs).round(2)\n",
    "\n",
    "    word_mse = np.mean((preds - targs) ** 2)\n",
    "    wrd_mae = np.mean(np.abs(preds - targs))\n",
    "    word_corr = np.corrcoef(preds, targs)[0, 1]\n",
    "    \n",
    "    return word_mse, wrd_mae, word_corr"
   ]
  },
  {
   "cell_type": "code",
   "execution_count": 67,
   "metadata": {},
   "outputs": [],
   "source": [
    "def valid_utt(predict, target):\n",
    "    utt_mse = np.mean(((predict[:, 0] - target[:, 0]) ** 2).numpy())\n",
    "    utt_mae = np.mean((np.abs(predict[:, 0] - target[:, 0])).numpy())\n",
    "    \n",
    "    utt_corr = np.corrcoef(predict[:, 0], target[:, 0])[0, 1]\n",
    "    return utt_mse, utt_mae, utt_corr\n"
   ]
  },
  {
   "cell_type": "code",
   "execution_count": 68,
   "metadata": {},
   "outputs": [],
   "source": [
    "def to_device(batch, device):\n",
    "    features = batch[\"features\"].to(device)\n",
    "    phone_ids = batch[\"phone_ids\"].to(device)\n",
    "    word_ids = batch[\"word_ids\"]\n",
    "    \n",
    "    phone_labels = batch[\"phone_scores\"].to(device)\n",
    "    word_labels = batch[\"word_scores\"].to(device)\n",
    "    utterance_labels = batch[\"sentence_scores\"].to(device)\n",
    "\n",
    "    return features, phone_ids, word_ids, phone_labels, word_labels, utterance_labels\n",
    "\n",
    "def to_cpu(preds, labels):\n",
    "    preds = preds.detach().cpu().squeeze(-1)\n",
    "    labels = labels.detach().cpu()\n",
    "\n",
    "    return preds, labels"
   ]
  },
  {
   "cell_type": "code",
   "execution_count": 69,
   "metadata": {},
   "outputs": [],
   "source": [
    "def load_pred_and_label(pred_path, label_path):\n",
    "    pred = np.load(pred_path)\n",
    "    label = np.load(label_path)\n",
    "\n",
    "    pred = np.concatenate(pred)\n",
    "    label = np.concatenate(label)\n",
    "    index = label != -1    \n",
    "    \n",
    "    return label[index], pred[index]\n",
    "\n",
    "def save_confusion_matrix_figure(\n",
    "        fig_path, pred_path, label_path, YELLOW_GREEN=80/50, RED_YELLOW=30/50):\n",
    "    \n",
    "    label, pred = load_pred_and_label(pred_path=pred_path, label_path=label_path)\n",
    "    \n",
    "    actual = convert_score_to_color(\n",
    "        torch.from_numpy(label), YELLOW_GREEN=YELLOW_GREEN, RED_YELLOW=RED_YELLOW)\n",
    "    \n",
    "    predicted = convert_score_to_color(\n",
    "        torch.from_numpy(pred), YELLOW_GREEN=YELLOW_GREEN, RED_YELLOW=RED_YELLOW)\n",
    "    \n",
    "    cfs_mtr = confusion_matrix(actual, predicted)\n",
    "    cfs_mtr = cfs_mtr / cfs_mtr.sum(axis=1, keepdims=True)\n",
    "    if RED_YELLOW is not None:\n",
    "        cm_display = ConfusionMatrixDisplay(\n",
    "            confusion_matrix = cfs_mtr, display_labels = [\"GREEN\", \"YELLOW\", \"RED\"])\n",
    "    else:\n",
    "        cm_display = ConfusionMatrixDisplay(\n",
    "            confusion_matrix = cfs_mtr, display_labels = [\"CORRECT\", \"INCORRECT\"])\n",
    "\n",
    "    plt.title(\"Confusion Matrix\")\n",
    "    cm_display.plot(cmap='Blues')\n",
    "    plt.savefig(fig_path) \n",
    "    plt.close()\n",
    "\n",
    "def save(epoch, output_dir, model, optimizer, phone_desicion_result, \\\n",
    "    phone_predicts, phone_labels, word_predicts, word_labels, utterance_predicts, utterance_labels):\n",
    "    \n",
    "    model_path = f'{output_dir}/model.pt'\n",
    "    optimizer_path = f'{output_dir}/optimizer.pt'\n",
    "    phone_desicion_result_path = f'{output_dir}/phone_result'\n",
    "\n",
    "    phone_predict_path = f'{output_dir}/phn_pred.npy'\n",
    "    phone_label_path = f'{output_dir}/phn_label.npy'\n",
    "    word_predict_path = f'{output_dir}/wrd_pred.npy'\n",
    "    word_label_path = f'{output_dir}/wrd_label.npy'\n",
    "    utterance_predict_path = f'{output_dir}/utt_pred.npy'\n",
    "    utterance_label_path = f'{output_dir}/utt_label.npy'\n",
    "\n",
    "    three_class_fig_path = f'{output_dir}/confusion_matrix_three_class.png'\n",
    "    two_class_fig_path = f'{output_dir}/confusion_matrix_two_class.png'\n",
    "\n",
    "    with open(phone_desicion_result_path, \"w\") as f:\n",
    "        f.write(phone_desicion_result)\n",
    "\n",
    "    torch.save(model.state_dict(), model_path)\n",
    "    torch.save(optimizer.state_dict(), optimizer_path)\n",
    "    np.save(phone_predict_path, phone_predicts)\n",
    "    np.save(phone_label_path, phone_labels)\n",
    "    np.save(word_predict_path, word_predicts)\n",
    "    np.save(word_label_path, word_labels)\n",
    "    np.save(utterance_predict_path, utterance_predicts)\n",
    "    np.save(utterance_label_path, utterance_labels)\n",
    "    save_confusion_matrix_figure(three_class_fig_path, phone_predict_path, phone_label_path, YELLOW_GREEN=80/50, RED_YELLOW=30/50)\n",
    "    save_confusion_matrix_figure(two_class_fig_path, phone_predict_path, phone_label_path, YELLOW_GREEN=80/50, RED_YELLOW=None)\n",
    "\n",
    "    print(f'Save state dict and result to {output_dir}')"
   ]
  },
  {
   "cell_type": "code",
   "execution_count": 70,
   "metadata": {},
   "outputs": [],
   "source": [
    "@torch.no_grad()\n",
    "def validate(epoch, gopt_model, testloader, best_mse, ckpt_dir):\n",
    "    gopt_model.eval()\n",
    "    A_phn, A_phn_target = [], []\n",
    "    A_utt, A_utt_target = [], []\n",
    "    A_wrd, A_wrd_target, A_wrd_id = [], [], []\n",
    "\n",
    "    for batch in testloader:\n",
    "        features, phone_ids, word_ids, \\\n",
    "            phone_labels, word_labels, utterance_labels = to_device(batch, device)\n",
    "        \n",
    "        utterance_preds, phone_preds, word_preds = gopt_model(\n",
    "            x=features.float(), phn=phone_ids.long())\n",
    "        \n",
    "        phone_preds, phone_labels = to_cpu(phone_preds, phone_labels)\n",
    "        word_preds, word_labels = to_cpu(word_preds, word_labels)\n",
    "        utterance_preds, utterance_labels = to_cpu(utterance_preds, utterance_labels)\n",
    "        \n",
    "        A_phn.append(phone_preds), A_phn_target.append(phone_labels)\n",
    "        A_utt.append(utterance_preds), A_utt_target.append(utterance_labels)\n",
    "        A_wrd.append(word_preds), A_wrd_target.append(word_labels), A_wrd_id.append(word_ids)\n",
    "    \n",
    "    # phone level\n",
    "    A_phn, A_phn_target  = torch.vstack(A_phn), torch.vstack(A_phn_target)\n",
    "    decision_result = calculate_phone_decision_result(A_phn, A_phn_target)\n",
    "\n",
    "    # word level\n",
    "    A_word, A_word_target, A_word_id = torch.vstack(A_wrd), torch.vstack(A_wrd_target), torch.vstack(A_wrd_id) \n",
    "\n",
    "    # utterance level\n",
    "    A_utt, A_utt_target = torch.vstack(A_utt), torch.vstack(A_utt_target)\n",
    "\n",
    "    # valid_token_mse, mae, corr\n",
    "    phn_mse, phn_mae, phn_corr = valid_phn(A_phn, A_phn_target)\n",
    "    word_mse, wrd_mae, word_corr = valid_wrd(A_word, A_word_target, A_word_id)\n",
    "    utt_mse, utt_mae, utt_corr = valid_utt(A_utt, A_utt_target)\n",
    "\n",
    "    if phn_mse < best_mse:\n",
    "        best_mse = phn_mse\n",
    "    ckpt_dir = f'{ckpt_dir}/ckpts-eph={epoch}-mse={round(phn_mse, 4)}'\n",
    "    os.makedirs(ckpt_dir)\n",
    "    \n",
    "    save(\n",
    "        epoch=epoch,\n",
    "        output_dir=ckpt_dir, \n",
    "        model=gopt_model, \n",
    "        optimizer=optimizer, \n",
    "        phone_desicion_result=decision_result, \n",
    "        phone_predicts=A_phn.numpy(), \n",
    "        phone_labels=A_phn_target.numpy(), \n",
    "        word_predicts=A_word.numpy(), \n",
    "        word_labels=A_word_target.numpy(), \n",
    "        utterance_predicts=A_utt.numpy(), \n",
    "        utterance_labels=A_utt_target.numpy()\n",
    "    )\n",
    "\n",
    "    print(f\"### Validation result (epoch={epoch})\")\n",
    "    print(\"  Phone level:  MSE={:.3f}  MAE={:.3f}  PCC={:.3f} \".format(phn_mse, phn_mae, phn_corr))\n",
    "    print(\"   Word level:  MSE={:.3f}  MAE={:.3f}  PCC={:.3f} \".format(word_mse, wrd_mae, word_corr))\n",
    "    print(\"    Utt level:  MSE={:.3f}  MAE={:.3f}  PCC={:.3f} \".format(utt_mse, utt_mae, utt_corr))\n",
    "\n",
    "    return {\n",
    "        \"phn_mse\": phn_mse, \n",
    "        \"phn_mae\": phn_mae,\n",
    "        \"phn_corr\": phn_corr,\n",
    "        \"word_mse\": word_mse,\n",
    "        \"wrd_mae\": wrd_mae,\n",
    "        \"word_corr\": word_corr,\n",
    "        \"utt_mse\": utt_mse,\n",
    "        \"utt_mae\": utt_mae,\n",
    "        \"utt_corr\": utt_corr,\n",
    "        \"best_mse\": best_mse\n",
    "    }\n",
    "\n",
    "def calculate_phone_decision_result(A_phn, A_phn_target):\n",
    "    indices = A_phn_target != -1\n",
    "    _label = A_phn_target[indices].clone()\n",
    "    _pred = A_phn[indices].clone()\n",
    "\n",
    "    converted_pred = convert_score_to_color(_pred).view(-1)\n",
    "    converted_label = convert_score_to_color(_label).view(-1)\n",
    "\n",
    "    result = classification_report(y_true=converted_label, y_pred=converted_pred)\n",
    "    print(\"### F1 Score: \\n\", result)\n",
    "\n",
    "    return result\n"
   ]
  },
  {
   "cell_type": "code",
   "execution_count": 71,
   "metadata": {},
   "outputs": [],
   "source": [
    "def calculate_losses(phone_preds, phone_labels, word_preds, word_labels, utterance_preds, utterance_labels):\n",
    "    # phone level\n",
    "    mask = phone_labels >=0\n",
    "    phone_preds = phone_preds.squeeze(2) * mask\n",
    "    phone_labels = phone_labels * mask\n",
    "    \n",
    "    loss_phn = loss_fn(phone_preds, phone_labels)\n",
    "    loss_phn = loss_phn * (mask.shape[0] * mask.shape[1]) / torch.sum(mask)\n",
    "\n",
    "    # utterance level\n",
    "    loss_utt = loss_fn(utterance_preds.squeeze(1) ,utterance_labels)\n",
    "    # loss_utt = torch.tensor(0)\n",
    "\n",
    "    # word level\n",
    "    mask = word_labels >= 0      \n",
    "    word_preds = word_preds.squeeze(2) * mask\n",
    "    word_labels = word_labels * mask\n",
    "    \n",
    "    loss_word = loss_fn(word_preds, word_labels)\n",
    "    loss_word = loss_word * (mask.shape[0] * mask.shape[1]) / torch.sum(mask)\n",
    "    # loss_word = torch.tensor(0)\n",
    "\n",
    "    return loss_phn, loss_utt, loss_word"
   ]
  },
  {
   "cell_type": "code",
   "execution_count": 72,
   "metadata": {},
   "outputs": [
    {
     "name": "stderr",
     "output_type": "stream",
     "text": [
      "Training:   8%|▊         | 15/195 [00:00<00:01, 137.73it/s, loss=0.913, loss_phn=0.448, loss_utt=0.181, loss_word=0.284] "
     ]
    },
    {
     "name": "stderr",
     "output_type": "stream",
     "text": [
      "Training: 100%|██████████| 195/195 [00:01<00:00, 138.44it/s, loss=0.49, loss_phn=0.233, loss_utt=0.102, loss_word=0.155]   \n"
     ]
    },
    {
     "name": "stdout",
     "output_type": "stream",
     "text": [
      "### F1 Score: \n",
      "               precision    recall  f1-score   support\n",
      "\n",
      "         0.0       0.94      0.70      0.80     20125\n",
      "         1.0       0.13      0.73      0.22      1722\n",
      "         2.0       0.81      0.09      0.17      3111\n",
      "\n",
      "    accuracy                           0.62     24958\n",
      "   macro avg       0.63      0.51      0.40     24958\n",
      "weighted avg       0.87      0.62      0.68     24958\n",
      "\n",
      "Save state dict and result to /data/codes/prep_ps_pykaldi/exp/ckpts/in_long_old/ckpts-eph=0-mse=0.24230000376701355\n",
      "### Validation result (epoch=0)\n",
      "  Phone level:  MSE=0.242  MAE=0.360  PCC=0.596 \n",
      "   Word level:  MSE=0.193  MAE=0.383  PCC=0.581 \n",
      "    Utt level:  MSE=0.090  MAE=0.252  PCC=0.688 \n"
     ]
    },
    {
     "name": "stderr",
     "output_type": "stream",
     "text": [
      "Training: 100%|██████████| 195/195 [00:01<00:00, 129.39it/s, loss=0.397, loss_phn=0.188, loss_utt=0.0642, loss_word=0.145] \n"
     ]
    },
    {
     "name": "stdout",
     "output_type": "stream",
     "text": [
      "### F1 Score: \n",
      "               precision    recall  f1-score   support\n",
      "\n",
      "         0.0       0.95      0.69      0.80     20125\n",
      "         1.0       0.13      0.75      0.22      1722\n",
      "         2.0       0.81      0.19      0.31      3111\n",
      "\n",
      "    accuracy                           0.63     24958\n",
      "   macro avg       0.63      0.54      0.44     24958\n",
      "weighted avg       0.88      0.63      0.70     24958\n",
      "\n",
      "Save state dict and result to /data/codes/prep_ps_pykaldi/exp/ckpts/in_long_old/ckpts-eph=1-mse=0.23240000009536743\n",
      "### Validation result (epoch=1)\n",
      "  Phone level:  MSE=0.232  MAE=0.370  PCC=0.633 \n",
      "   Word level:  MSE=0.156  MAE=0.302  PCC=0.631 \n",
      "    Utt level:  MSE=0.087  MAE=0.244  PCC=0.714 \n"
     ]
    },
    {
     "name": "stderr",
     "output_type": "stream",
     "text": [
      "Training: 100%|██████████| 195/195 [00:01<00:00, 138.20it/s, loss=0.347, loss_phn=0.179, loss_utt=0.0379, loss_word=0.13]  \n"
     ]
    },
    {
     "name": "stdout",
     "output_type": "stream",
     "text": [
      "### F1 Score: \n",
      "               precision    recall  f1-score   support\n",
      "\n",
      "         0.0       0.92      0.86      0.89     20125\n",
      "         1.0       0.16      0.47      0.24      1722\n",
      "         2.0       0.78      0.26      0.39      3111\n",
      "\n",
      "    accuracy                           0.76     24958\n",
      "   macro avg       0.62      0.53      0.51     24958\n",
      "weighted avg       0.85      0.76      0.78     24958\n",
      "\n",
      "Save state dict and result to /data/codes/prep_ps_pykaldi/exp/ckpts/in_long_old/ckpts-eph=2-mse=0.21480000019073486\n",
      "### Validation result (epoch=2)\n",
      "  Phone level:  MSE=0.215  MAE=0.269  PCC=0.654 \n",
      "   Word level:  MSE=0.160  MAE=0.284  PCC=0.672 \n",
      "    Utt level:  MSE=0.074  MAE=0.205  PCC=0.744 \n"
     ]
    },
    {
     "name": "stderr",
     "output_type": "stream",
     "text": [
      "Training: 100%|██████████| 195/195 [00:01<00:00, 129.38it/s, loss=0.472, loss_phn=0.257, loss_utt=0.0485, loss_word=0.167]  \n"
     ]
    },
    {
     "name": "stdout",
     "output_type": "stream",
     "text": [
      "### F1 Score: \n",
      "               precision    recall  f1-score   support\n",
      "\n",
      "         0.0       0.95      0.77      0.85     20125\n",
      "         1.0       0.15      0.63      0.24      1722\n",
      "         2.0       0.76      0.32      0.45      3111\n",
      "\n",
      "    accuracy                           0.70     24958\n",
      "   macro avg       0.62      0.57      0.51     24958\n",
      "weighted avg       0.87      0.70      0.76     24958\n",
      "\n",
      "Save state dict and result to /data/codes/prep_ps_pykaldi/exp/ckpts/in_long_old/ckpts-eph=3-mse=0.21209999918937683\n",
      "### Validation result (epoch=3)\n",
      "  Phone level:  MSE=0.212  MAE=0.295  PCC=0.663 \n",
      "   Word level:  MSE=0.136  MAE=0.282  PCC=0.685 \n",
      "    Utt level:  MSE=0.053  MAE=0.183  PCC=0.764 \n"
     ]
    },
    {
     "name": "stderr",
     "output_type": "stream",
     "text": [
      "Training: 100%|██████████| 195/195 [00:01<00:00, 147.82it/s, loss=0.487, loss_phn=0.251, loss_utt=0.0877, loss_word=0.149]  \n"
     ]
    },
    {
     "name": "stdout",
     "output_type": "stream",
     "text": [
      "### F1 Score: \n",
      "               precision    recall  f1-score   support\n",
      "\n",
      "         0.0       0.94      0.83      0.88     20125\n",
      "         1.0       0.17      0.58      0.26      1722\n",
      "         2.0       0.83      0.25      0.38      3111\n",
      "\n",
      "    accuracy                           0.74     24958\n",
      "   macro avg       0.64      0.56      0.51     24958\n",
      "weighted avg       0.87      0.74      0.78     24958\n",
      "\n",
      "Save state dict and result to /data/codes/prep_ps_pykaldi/exp/ckpts/in_long_old/ckpts-eph=4-mse=0.19820000231266022\n",
      "### Validation result (epoch=4)\n",
      "  Phone level:  MSE=0.198  MAE=0.273  PCC=0.681 \n",
      "   Word level:  MSE=0.142  MAE=0.292  PCC=0.668 \n",
      "    Utt level:  MSE=0.051  MAE=0.171  PCC=0.753 \n"
     ]
    },
    {
     "name": "stderr",
     "output_type": "stream",
     "text": [
      "Training: 100%|██████████| 195/195 [00:01<00:00, 135.14it/s, loss=0.331, loss_phn=0.175, loss_utt=0.0385, loss_word=0.117]  \n"
     ]
    },
    {
     "name": "stdout",
     "output_type": "stream",
     "text": [
      "### F1 Score: \n",
      "               precision    recall  f1-score   support\n",
      "\n",
      "         0.0       0.94      0.82      0.87     20125\n",
      "         1.0       0.16      0.60      0.26      1722\n",
      "         2.0       0.81      0.30      0.44      3111\n",
      "\n",
      "    accuracy                           0.74     24958\n",
      "   macro avg       0.64      0.57      0.52     24958\n",
      "weighted avg       0.87      0.74      0.78     24958\n",
      "\n",
      "Save state dict and result to /data/codes/prep_ps_pykaldi/exp/ckpts/in_long_old/ckpts-eph=5-mse=0.19380000233650208\n",
      "### Validation result (epoch=5)\n",
      "  Phone level:  MSE=0.194  MAE=0.273  PCC=0.689 \n",
      "   Word level:  MSE=0.138  MAE=0.298  PCC=0.695 \n",
      "    Utt level:  MSE=0.051  MAE=0.177  PCC=0.773 \n"
     ]
    },
    {
     "name": "stderr",
     "output_type": "stream",
     "text": [
      "Training: 100%|██████████| 195/195 [00:01<00:00, 144.62it/s, loss=0.395, loss_phn=0.237, loss_utt=0.0419, loss_word=0.116] \n"
     ]
    },
    {
     "name": "stdout",
     "output_type": "stream",
     "text": [
      "### F1 Score: \n",
      "               precision    recall  f1-score   support\n",
      "\n",
      "         0.0       0.93      0.88      0.90     20125\n",
      "         1.0       0.18      0.51      0.27      1722\n",
      "         2.0       0.83      0.29      0.43      3111\n",
      "\n",
      "    accuracy                           0.78     24958\n",
      "   macro avg       0.65      0.56      0.53     24958\n",
      "weighted avg       0.86      0.78      0.80     24958\n",
      "\n",
      "Save state dict and result to /data/codes/prep_ps_pykaldi/exp/ckpts/in_long_old/ckpts-eph=6-mse=0.19110000133514404\n",
      "### Validation result (epoch=6)\n",
      "  Phone level:  MSE=0.191  MAE=0.251  PCC=0.700 \n",
      "   Word level:  MSE=0.130  MAE=0.265  PCC=0.707 \n",
      "    Utt level:  MSE=0.050  MAE=0.163  PCC=0.772 \n"
     ]
    },
    {
     "name": "stderr",
     "output_type": "stream",
     "text": [
      "Training: 100%|██████████| 195/195 [00:01<00:00, 130.10it/s, loss=0.264, loss_phn=0.11, loss_utt=0.056, loss_word=0.0975]   \n"
     ]
    },
    {
     "name": "stdout",
     "output_type": "stream",
     "text": [
      "### F1 Score: \n",
      "               precision    recall  f1-score   support\n",
      "\n",
      "         0.0       0.93      0.86      0.90     20125\n",
      "         1.0       0.17      0.53      0.26      1722\n",
      "         2.0       0.83      0.28      0.42      3111\n",
      "\n",
      "    accuracy                           0.77     24958\n",
      "   macro avg       0.65      0.56      0.52     24958\n",
      "weighted avg       0.87      0.77      0.79     24958\n",
      "\n",
      "Save state dict and result to /data/codes/prep_ps_pykaldi/exp/ckpts/in_long_old/ckpts-eph=7-mse=0.19249999523162842\n",
      "### Validation result (epoch=7)\n",
      "  Phone level:  MSE=0.192  MAE=0.259  PCC=0.700 \n",
      "   Word level:  MSE=0.134  MAE=0.287  PCC=0.708 \n",
      "    Utt level:  MSE=0.048  MAE=0.173  PCC=0.785 \n"
     ]
    },
    {
     "name": "stderr",
     "output_type": "stream",
     "text": [
      "Training: 100%|██████████| 195/195 [00:01<00:00, 146.61it/s, loss=0.308, loss_phn=0.136, loss_utt=0.049, loss_word=0.123]  \n"
     ]
    },
    {
     "name": "stdout",
     "output_type": "stream",
     "text": [
      "### F1 Score: \n",
      "               precision    recall  f1-score   support\n",
      "\n",
      "         0.0       0.95      0.80      0.86     20125\n",
      "         1.0       0.16      0.65      0.26      1722\n",
      "         2.0       0.82      0.31      0.46      3111\n",
      "\n",
      "    accuracy                           0.73     24958\n",
      "   macro avg       0.64      0.59      0.53     24958\n",
      "weighted avg       0.88      0.73      0.77     24958\n",
      "\n",
      "Save state dict and result to /data/codes/prep_ps_pykaldi/exp/ckpts/in_long_old/ckpts-eph=8-mse=0.18770000338554382\n",
      "### Validation result (epoch=8)\n",
      "  Phone level:  MSE=0.188  MAE=0.296  PCC=0.706 \n",
      "   Word level:  MSE=0.139  MAE=0.297  PCC=0.693 \n",
      "    Utt level:  MSE=0.071  MAE=0.218  PCC=0.796 \n"
     ]
    },
    {
     "name": "stderr",
     "output_type": "stream",
     "text": [
      "Training: 100%|██████████| 195/195 [00:01<00:00, 123.77it/s, loss=0.324, loss_phn=0.116, loss_utt=0.0645, loss_word=0.143]   \n"
     ]
    },
    {
     "name": "stdout",
     "output_type": "stream",
     "text": [
      "### F1 Score: \n",
      "               precision    recall  f1-score   support\n",
      "\n",
      "         0.0       0.95      0.80      0.87     20125\n",
      "         1.0       0.17      0.62      0.26      1722\n",
      "         2.0       0.81      0.37      0.51      3111\n",
      "\n",
      "    accuracy                           0.74     24958\n",
      "   macro avg       0.64      0.60      0.55     24958\n",
      "weighted avg       0.88      0.74      0.78     24958\n",
      "\n",
      "Save state dict and result to /data/codes/prep_ps_pykaldi/exp/ckpts/in_long_old/ckpts-eph=9-mse=0.18119999766349792\n",
      "### Validation result (epoch=9)\n",
      "  Phone level:  MSE=0.181  MAE=0.267  PCC=0.715 \n",
      "   Word level:  MSE=0.150  MAE=0.334  PCC=0.718 \n",
      "    Utt level:  MSE=0.055  MAE=0.192  PCC=0.787 \n"
     ]
    },
    {
     "name": "stderr",
     "output_type": "stream",
     "text": [
      "Training: 100%|██████████| 195/195 [00:01<00:00, 164.27it/s, loss=0.434, loss_phn=0.239, loss_utt=0.0633, loss_word=0.131]  \n"
     ]
    },
    {
     "name": "stdout",
     "output_type": "stream",
     "text": [
      "### F1 Score: \n",
      "               precision    recall  f1-score   support\n",
      "\n",
      "         0.0       0.95      0.78      0.85     20125\n",
      "         1.0       0.16      0.61      0.25      1722\n",
      "         2.0       0.76      0.44      0.56      3111\n",
      "\n",
      "    accuracy                           0.72     24958\n",
      "   macro avg       0.62      0.61      0.55     24958\n",
      "weighted avg       0.87      0.72      0.78     24958\n",
      "\n",
      "Save state dict and result to /data/codes/prep_ps_pykaldi/exp/ckpts/in_long_old/ckpts-eph=10-mse=0.18629999458789825\n",
      "### Validation result (epoch=10)\n",
      "  Phone level:  MSE=0.186  MAE=0.282  PCC=0.715 \n",
      "   Word level:  MSE=0.147  MAE=0.324  PCC=0.716 \n",
      "    Utt level:  MSE=0.053  MAE=0.188  PCC=0.807 \n"
     ]
    },
    {
     "name": "stderr",
     "output_type": "stream",
     "text": [
      "Training: 100%|██████████| 195/195 [00:01<00:00, 140.96it/s, loss=0.346, loss_phn=0.192, loss_utt=0.0095, loss_word=0.144]  \n"
     ]
    },
    {
     "name": "stdout",
     "output_type": "stream",
     "text": [
      "### F1 Score: \n",
      "               precision    recall  f1-score   support\n",
      "\n",
      "         0.0       0.93      0.89      0.91     20125\n",
      "         1.0       0.18      0.51      0.27      1722\n",
      "         2.0       0.85      0.26      0.40      3111\n",
      "\n",
      "    accuracy                           0.79     24958\n",
      "   macro avg       0.65      0.55      0.53     24958\n",
      "weighted avg       0.87      0.79      0.80     24958\n",
      "\n",
      "Save state dict and result to /data/codes/prep_ps_pykaldi/exp/ckpts/in_long_old/ckpts-eph=11-mse=0.18219999969005585\n",
      "### Validation result (epoch=11)\n",
      "  Phone level:  MSE=0.182  MAE=0.246  PCC=0.727 \n",
      "   Word level:  MSE=0.125  MAE=0.264  PCC=0.732 \n",
      "    Utt level:  MSE=0.047  MAE=0.163  PCC=0.812 \n"
     ]
    },
    {
     "name": "stderr",
     "output_type": "stream",
     "text": [
      "Training: 100%|██████████| 195/195 [00:01<00:00, 145.11it/s, loss=0.252, loss_phn=0.1, loss_utt=0.0532, loss_word=0.099]    \n"
     ]
    },
    {
     "name": "stdout",
     "output_type": "stream",
     "text": [
      "### F1 Score: \n",
      "               precision    recall  f1-score   support\n",
      "\n",
      "         0.0       0.94      0.87      0.90     20125\n",
      "         1.0       0.19      0.51      0.27      1722\n",
      "         2.0       0.80      0.43      0.56      3111\n",
      "\n",
      "    accuracy                           0.79     24958\n",
      "   macro avg       0.64      0.60      0.58     24958\n",
      "weighted avg       0.87      0.79      0.82     24958\n",
      "\n",
      "Save state dict and result to /data/codes/prep_ps_pykaldi/exp/ckpts/in_long_old/ckpts-eph=12-mse=0.16779999434947968\n",
      "### Validation result (epoch=12)\n",
      "  Phone level:  MSE=0.168  MAE=0.238  PCC=0.739 \n",
      "   Word level:  MSE=0.121  MAE=0.264  PCC=0.732 \n",
      "    Utt level:  MSE=0.039  MAE=0.153  PCC=0.819 \n"
     ]
    },
    {
     "name": "stderr",
     "output_type": "stream",
     "text": [
      "Training: 100%|██████████| 195/195 [00:01<00:00, 145.98it/s, loss=0.367, loss_phn=0.221, loss_utt=0.0214, loss_word=0.124]  \n"
     ]
    },
    {
     "name": "stdout",
     "output_type": "stream",
     "text": [
      "### F1 Score: \n",
      "               precision    recall  f1-score   support\n",
      "\n",
      "         0.0       0.95      0.81      0.87     20125\n",
      "         1.0       0.17      0.66      0.27      1722\n",
      "         2.0       0.85      0.30      0.44      3111\n",
      "\n",
      "    accuracy                           0.74     24958\n",
      "   macro avg       0.66      0.59      0.53     24958\n",
      "weighted avg       0.88      0.74      0.78     24958\n",
      "\n",
      "Save state dict and result to /data/codes/prep_ps_pykaldi/exp/ckpts/in_long_old/ckpts-eph=13-mse=0.17579999566078186\n",
      "### Validation result (epoch=13)\n",
      "  Phone level:  MSE=0.176  MAE=0.280  PCC=0.727 \n",
      "   Word level:  MSE=0.128  MAE=0.283  PCC=0.723 \n",
      "    Utt level:  MSE=0.043  MAE=0.160  PCC=0.823 \n"
     ]
    },
    {
     "name": "stderr",
     "output_type": "stream",
     "text": [
      "Training: 100%|██████████| 195/195 [00:01<00:00, 144.15it/s, loss=0.471, loss_phn=0.269, loss_utt=0.0438, loss_word=0.158]  \n"
     ]
    },
    {
     "name": "stdout",
     "output_type": "stream",
     "text": [
      "### F1 Score: \n",
      "               precision    recall  f1-score   support\n",
      "\n",
      "         0.0       0.95      0.81      0.88     20125\n",
      "         1.0       0.17      0.55      0.26      1722\n",
      "         2.0       0.73      0.55      0.63      3111\n",
      "\n",
      "    accuracy                           0.76     24958\n",
      "   macro avg       0.62      0.64      0.59     24958\n",
      "weighted avg       0.87      0.76      0.80     24958\n",
      "\n",
      "Save state dict and result to /data/codes/prep_ps_pykaldi/exp/ckpts/in_long_old/ckpts-eph=14-mse=0.17419999837875366\n",
      "### Validation result (epoch=14)\n",
      "  Phone level:  MSE=0.174  MAE=0.255  PCC=0.742 \n",
      "   Word level:  MSE=0.127  MAE=0.287  PCC=0.733 \n",
      "    Utt level:  MSE=0.039  MAE=0.150  PCC=0.832 \n"
     ]
    },
    {
     "name": "stderr",
     "output_type": "stream",
     "text": [
      "Training: 100%|██████████| 195/195 [00:01<00:00, 129.85it/s, loss=0.429, loss_phn=0.16, loss_utt=0.0937, loss_word=0.175]   \n"
     ]
    },
    {
     "name": "stdout",
     "output_type": "stream",
     "text": [
      "### F1 Score: \n",
      "               precision    recall  f1-score   support\n",
      "\n",
      "         0.0       0.95      0.81      0.88     20125\n",
      "         1.0       0.17      0.62      0.27      1722\n",
      "         2.0       0.83      0.38      0.52      3111\n",
      "\n",
      "    accuracy                           0.75     24958\n",
      "   macro avg       0.65      0.61      0.55     24958\n",
      "weighted avg       0.88      0.75      0.79     24958\n",
      "\n",
      "Save state dict and result to /data/codes/prep_ps_pykaldi/exp/ckpts/in_long_old/ckpts-eph=15-mse=0.17020000517368317\n",
      "### Validation result (epoch=15)\n",
      "  Phone level:  MSE=0.170  MAE=0.276  PCC=0.738 \n",
      "   Word level:  MSE=0.135  MAE=0.304  PCC=0.723 \n",
      "    Utt level:  MSE=0.033  MAE=0.136  PCC=0.849 \n"
     ]
    },
    {
     "name": "stderr",
     "output_type": "stream",
     "text": [
      "Training: 100%|██████████| 195/195 [00:01<00:00, 134.69it/s, loss=0.451, loss_phn=0.259, loss_utt=0.0367, loss_word=0.155]   \n"
     ]
    },
    {
     "name": "stdout",
     "output_type": "stream",
     "text": [
      "### F1 Score: \n",
      "               precision    recall  f1-score   support\n",
      "\n",
      "         0.0       0.94      0.90      0.92     20125\n",
      "         1.0       0.20      0.51      0.29      1722\n",
      "         2.0       0.85      0.36      0.50      3111\n",
      "\n",
      "    accuracy                           0.80     24958\n",
      "   macro avg       0.66      0.59      0.57     24958\n",
      "weighted avg       0.88      0.80      0.82     24958\n",
      "\n",
      "Save state dict and result to /data/codes/prep_ps_pykaldi/exp/ckpts/in_long_old/ckpts-eph=16-mse=0.1615999937057495\n",
      "### Validation result (epoch=16)\n",
      "  Phone level:  MSE=0.162  MAE=0.225  PCC=0.756 \n",
      "   Word level:  MSE=0.110  MAE=0.245  PCC=0.759 \n",
      "    Utt level:  MSE=0.041  MAE=0.149  PCC=0.825 \n"
     ]
    },
    {
     "name": "stderr",
     "output_type": "stream",
     "text": [
      "Training: 100%|██████████| 195/195 [00:01<00:00, 153.92it/s, loss=0.324, loss_phn=0.168, loss_utt=0.0228, loss_word=0.133]   \n"
     ]
    },
    {
     "name": "stdout",
     "output_type": "stream",
     "text": [
      "### F1 Score: \n",
      "               precision    recall  f1-score   support\n",
      "\n",
      "         0.0       0.95      0.86      0.90     20125\n",
      "         1.0       0.19      0.52      0.27      1722\n",
      "         2.0       0.78      0.47      0.59      3111\n",
      "\n",
      "    accuracy                           0.79     24958\n",
      "   macro avg       0.64      0.62      0.59     24958\n",
      "weighted avg       0.87      0.79      0.82     24958\n",
      "\n",
      "Save state dict and result to /data/codes/prep_ps_pykaldi/exp/ckpts/in_long_old/ckpts-eph=17-mse=0.15850000083446503\n",
      "### Validation result (epoch=17)\n",
      "  Phone level:  MSE=0.159  MAE=0.233  PCC=0.757 \n",
      "   Word level:  MSE=0.109  MAE=0.251  PCC=0.762 \n",
      "    Utt level:  MSE=0.035  MAE=0.147  PCC=0.842 \n"
     ]
    },
    {
     "name": "stderr",
     "output_type": "stream",
     "text": [
      "Training: 100%|██████████| 195/195 [00:01<00:00, 165.27it/s, loss=0.208, loss_phn=0.118, loss_utt=0.0199, loss_word=0.0701] \n"
     ]
    },
    {
     "name": "stdout",
     "output_type": "stream",
     "text": [
      "### F1 Score: \n",
      "               precision    recall  f1-score   support\n",
      "\n",
      "         0.0       0.94      0.89      0.92     20125\n",
      "         1.0       0.20      0.51      0.29      1722\n",
      "         2.0       0.84      0.41      0.55      3111\n",
      "\n",
      "    accuracy                           0.81     24958\n",
      "   macro avg       0.66      0.60      0.59     24958\n",
      "weighted avg       0.88      0.81      0.83     24958\n",
      "\n",
      "Save state dict and result to /data/codes/prep_ps_pykaldi/exp/ckpts/in_long_old/ckpts-eph=18-mse=0.1550000011920929\n",
      "### Validation result (epoch=18)\n",
      "  Phone level:  MSE=0.155  MAE=0.220  PCC=0.767 \n",
      "   Word level:  MSE=0.108  MAE=0.239  PCC=0.773 \n",
      "    Utt level:  MSE=0.032  MAE=0.131  PCC=0.851 \n"
     ]
    },
    {
     "name": "stderr",
     "output_type": "stream",
     "text": [
      "Training: 100%|██████████| 195/195 [00:01<00:00, 137.65it/s, loss=0.181, loss_phn=0.0924, loss_utt=0.0162, loss_word=0.072] \n"
     ]
    },
    {
     "name": "stdout",
     "output_type": "stream",
     "text": [
      "### F1 Score: \n",
      "               precision    recall  f1-score   support\n",
      "\n",
      "         0.0       0.94      0.89      0.91     20125\n",
      "         1.0       0.21      0.50      0.29      1722\n",
      "         2.0       0.81      0.47      0.60      3111\n",
      "\n",
      "    accuracy                           0.81     24958\n",
      "   macro avg       0.65      0.62      0.60     24958\n",
      "weighted avg       0.88      0.81      0.83     24958\n",
      "\n",
      "Save state dict and result to /data/codes/prep_ps_pykaldi/exp/ckpts/in_long_old/ckpts-eph=19-mse=0.15049999952316284\n",
      "### Validation result (epoch=19)\n",
      "  Phone level:  MSE=0.150  MAE=0.218  PCC=0.770 \n",
      "   Word level:  MSE=0.106  MAE=0.230  PCC=0.767 \n",
      "    Utt level:  MSE=0.029  MAE=0.136  PCC=0.867 \n"
     ]
    },
    {
     "name": "stderr",
     "output_type": "stream",
     "text": [
      "Training: 100%|██████████| 195/195 [00:01<00:00, 146.44it/s, loss=0.361, loss_phn=0.153, loss_utt=0.0593, loss_word=0.149]   \n"
     ]
    },
    {
     "name": "stdout",
     "output_type": "stream",
     "text": [
      "### F1 Score: \n",
      "               precision    recall  f1-score   support\n",
      "\n",
      "         0.0       0.94      0.91      0.92     20125\n",
      "         1.0       0.21      0.48      0.29      1722\n",
      "         2.0       0.84      0.41      0.55      3111\n",
      "\n",
      "    accuracy                           0.82     24958\n",
      "   macro avg       0.66      0.60      0.59     24958\n",
      "weighted avg       0.87      0.82      0.83     24958\n",
      "\n",
      "Save state dict and result to /data/codes/prep_ps_pykaldi/exp/ckpts/in_long_old/ckpts-eph=20-mse=0.15559999644756317\n",
      "### Validation result (epoch=20)\n",
      "  Phone level:  MSE=0.156  MAE=0.217  PCC=0.767 \n",
      "   Word level:  MSE=0.118  MAE=0.227  PCC=0.767 \n",
      "    Utt level:  MSE=0.046  MAE=0.155  PCC=0.861 \n"
     ]
    },
    {
     "name": "stderr",
     "output_type": "stream",
     "text": [
      "Training: 100%|██████████| 195/195 [00:01<00:00, 126.00it/s, loss=0.47, loss_phn=0.261, loss_utt=0.0475, loss_word=0.161]   \n"
     ]
    },
    {
     "name": "stdout",
     "output_type": "stream",
     "text": [
      "### F1 Score: \n",
      "               precision    recall  f1-score   support\n",
      "\n",
      "         0.0       0.95      0.85      0.90     20125\n",
      "         1.0       0.19      0.52      0.27      1722\n",
      "         2.0       0.79      0.52      0.63      3111\n",
      "\n",
      "    accuracy                           0.79     24958\n",
      "   macro avg       0.64      0.63      0.60     24958\n",
      "weighted avg       0.88      0.79      0.82     24958\n",
      "\n",
      "Save state dict and result to /data/codes/prep_ps_pykaldi/exp/ckpts/in_long_old/ckpts-eph=21-mse=0.15690000355243683\n",
      "### Validation result (epoch=21)\n",
      "  Phone level:  MSE=0.157  MAE=0.238  PCC=0.761 \n",
      "   Word level:  MSE=0.114  MAE=0.266  PCC=0.758 \n",
      "    Utt level:  MSE=0.031  MAE=0.141  PCC=0.860 \n"
     ]
    },
    {
     "name": "stderr",
     "output_type": "stream",
     "text": [
      "Training: 100%|██████████| 195/195 [00:01<00:00, 137.79it/s, loss=0.453, loss_phn=0.232, loss_utt=0.0408, loss_word=0.18]    \n"
     ]
    },
    {
     "name": "stdout",
     "output_type": "stream",
     "text": [
      "### F1 Score: \n",
      "               precision    recall  f1-score   support\n",
      "\n",
      "         0.0       0.94      0.89      0.92     20125\n",
      "         1.0       0.21      0.57      0.30      1722\n",
      "         2.0       0.88      0.35      0.50      3111\n",
      "\n",
      "    accuracy                           0.80     24958\n",
      "   macro avg       0.68      0.60      0.57     24958\n",
      "weighted avg       0.89      0.80      0.82     24958\n",
      "\n",
      "Save state dict and result to /data/codes/prep_ps_pykaldi/exp/ckpts/in_long_old/ckpts-eph=22-mse=0.14959999918937683\n",
      "### Validation result (epoch=22)\n",
      "  Phone level:  MSE=0.150  MAE=0.225  PCC=0.779 \n",
      "   Word level:  MSE=0.102  MAE=0.224  PCC=0.778 \n",
      "    Utt level:  MSE=0.029  MAE=0.127  PCC=0.890 \n"
     ]
    },
    {
     "name": "stderr",
     "output_type": "stream",
     "text": [
      "Training: 100%|██████████| 195/195 [00:01<00:00, 127.93it/s, loss=0.281, loss_phn=0.135, loss_utt=0.0259, loss_word=0.12]    \n"
     ]
    },
    {
     "name": "stdout",
     "output_type": "stream",
     "text": [
      "### F1 Score: \n",
      "               precision    recall  f1-score   support\n",
      "\n",
      "         0.0       0.95      0.87      0.91     20125\n",
      "         1.0       0.20      0.56      0.30      1722\n",
      "         2.0       0.83      0.50      0.62      3111\n",
      "\n",
      "    accuracy                           0.80     24958\n",
      "   macro avg       0.66      0.64      0.61     24958\n",
      "weighted avg       0.89      0.80      0.83     24958\n",
      "\n",
      "Save state dict and result to /data/codes/prep_ps_pykaldi/exp/ckpts/in_long_old/ckpts-eph=23-mse=0.14229999482631683\n",
      "### Validation result (epoch=23)\n",
      "  Phone level:  MSE=0.142  MAE=0.241  PCC=0.786 \n",
      "   Word level:  MSE=0.101  MAE=0.224  PCC=0.782 \n",
      "    Utt level:  MSE=0.029  MAE=0.127  PCC=0.891 \n"
     ]
    },
    {
     "name": "stderr",
     "output_type": "stream",
     "text": [
      "Training: 100%|██████████| 195/195 [00:01<00:00, 143.48it/s, loss=0.446, loss_phn=0.268, loss_utt=0.0275, loss_word=0.15]    \n"
     ]
    },
    {
     "name": "stdout",
     "output_type": "stream",
     "text": [
      "### F1 Score: \n",
      "               precision    recall  f1-score   support\n",
      "\n",
      "         0.0       0.95      0.89      0.92     20125\n",
      "         1.0       0.21      0.56      0.30      1722\n",
      "         2.0       0.86      0.37      0.52      3111\n",
      "\n",
      "    accuracy                           0.80     24958\n",
      "   macro avg       0.67      0.61      0.58     24958\n",
      "weighted avg       0.88      0.80      0.82     24958\n",
      "\n",
      "Save state dict and result to /data/codes/prep_ps_pykaldi/exp/ckpts/in_long_old/ckpts-eph=24-mse=0.14869999885559082\n",
      "### Validation result (epoch=24)\n",
      "  Phone level:  MSE=0.149  MAE=0.230  PCC=0.777 \n",
      "   Word level:  MSE=0.121  MAE=0.282  PCC=0.758 \n",
      "    Utt level:  MSE=0.036  MAE=0.144  PCC=0.871 \n"
     ]
    },
    {
     "name": "stderr",
     "output_type": "stream",
     "text": [
      "Training: 100%|██████████| 195/195 [00:01<00:00, 162.28it/s, loss=0.295, loss_phn=0.147, loss_utt=0.0262, loss_word=0.122]  \n"
     ]
    },
    {
     "name": "stdout",
     "output_type": "stream",
     "text": [
      "### F1 Score: \n",
      "               precision    recall  f1-score   support\n",
      "\n",
      "         0.0       0.95      0.87      0.91     20125\n",
      "         1.0       0.20      0.52      0.29      1722\n",
      "         2.0       0.83      0.51      0.63      3111\n",
      "\n",
      "    accuracy                           0.80     24958\n",
      "   macro avg       0.66      0.64      0.61     24958\n",
      "weighted avg       0.88      0.80      0.83     24958\n",
      "\n",
      "Save state dict and result to /data/codes/prep_ps_pykaldi/exp/ckpts/in_long_old/ckpts-eph=25-mse=0.13899999856948853\n",
      "### Validation result (epoch=25)\n",
      "  Phone level:  MSE=0.139  MAE=0.230  PCC=0.790 \n",
      "   Word level:  MSE=0.104  MAE=0.254  PCC=0.789 \n",
      "    Utt level:  MSE=0.025  MAE=0.119  PCC=0.892 \n"
     ]
    },
    {
     "name": "stderr",
     "output_type": "stream",
     "text": [
      "Training: 100%|██████████| 195/195 [00:01<00:00, 147.47it/s, loss=0.218, loss_phn=0.113, loss_utt=0.0217, loss_word=0.0834]  \n"
     ]
    },
    {
     "name": "stdout",
     "output_type": "stream",
     "text": [
      "### F1 Score: \n",
      "               precision    recall  f1-score   support\n",
      "\n",
      "         0.0       0.95      0.86      0.91     20125\n",
      "         1.0       0.20      0.57      0.30      1722\n",
      "         2.0       0.84      0.50      0.62      3111\n",
      "\n",
      "    accuracy                           0.80     24958\n",
      "   macro avg       0.66      0.64      0.61     24958\n",
      "weighted avg       0.89      0.80      0.83     24958\n",
      "\n",
      "Save state dict and result to /data/codes/prep_ps_pykaldi/exp/ckpts/in_long_old/ckpts-eph=26-mse=0.1404999941587448\n",
      "### Validation result (epoch=26)\n",
      "  Phone level:  MSE=0.141  MAE=0.227  PCC=0.787 \n",
      "   Word level:  MSE=0.101  MAE=0.247  PCC=0.788 \n",
      "    Utt level:  MSE=0.023  MAE=0.110  PCC=0.900 \n"
     ]
    },
    {
     "name": "stderr",
     "output_type": "stream",
     "text": [
      "Training: 100%|██████████| 195/195 [00:01<00:00, 146.72it/s, loss=0.3, loss_phn=0.16, loss_utt=0.0184, loss_word=0.122]      \n"
     ]
    },
    {
     "name": "stdout",
     "output_type": "stream",
     "text": [
      "### F1 Score: \n",
      "               precision    recall  f1-score   support\n",
      "\n",
      "         0.0       0.95      0.90      0.92     20125\n",
      "         1.0       0.22      0.53      0.31      1722\n",
      "         2.0       0.85      0.46      0.59      3111\n",
      "\n",
      "    accuracy                           0.82     24958\n",
      "   macro avg       0.67      0.63      0.61     24958\n",
      "weighted avg       0.88      0.82      0.84     24958\n",
      "\n",
      "Save state dict and result to /data/codes/prep_ps_pykaldi/exp/ckpts/in_long_old/ckpts-eph=27-mse=0.13580000400543213\n",
      "### Validation result (epoch=27)\n",
      "  Phone level:  MSE=0.136  MAE=0.213  PCC=0.796 \n",
      "   Word level:  MSE=0.098  MAE=0.229  PCC=0.799 \n",
      "    Utt level:  MSE=0.027  MAE=0.122  PCC=0.892 \n"
     ]
    },
    {
     "name": "stderr",
     "output_type": "stream",
     "text": [
      "Training: 100%|██████████| 195/195 [00:01<00:00, 150.45it/s, loss=0.267, loss_phn=0.176, loss_utt=0.0151, loss_word=0.0756]  \n"
     ]
    },
    {
     "name": "stdout",
     "output_type": "stream",
     "text": [
      "### F1 Score: \n",
      "               precision    recall  f1-score   support\n",
      "\n",
      "         0.0       0.96      0.85      0.90     20125\n",
      "         1.0       0.20      0.56      0.29      1722\n",
      "         2.0       0.81      0.59      0.68      3111\n",
      "\n",
      "    accuracy                           0.80     24958\n",
      "   macro avg       0.66      0.67      0.63     24958\n",
      "weighted avg       0.89      0.80      0.83     24958\n",
      "\n",
      "Save state dict and result to /data/codes/prep_ps_pykaldi/exp/ckpts/in_long_old/ckpts-eph=28-mse=0.131400004029274\n",
      "### Validation result (epoch=28)\n",
      "  Phone level:  MSE=0.131  MAE=0.218  PCC=0.805 \n",
      "   Word level:  MSE=0.104  MAE=0.251  PCC=0.785 \n",
      "    Utt level:  MSE=0.027  MAE=0.135  PCC=0.903 \n"
     ]
    },
    {
     "name": "stderr",
     "output_type": "stream",
     "text": [
      "Training: 100%|██████████| 195/195 [00:01<00:00, 146.65it/s, loss=0.187, loss_phn=0.0841, loss_utt=0.0152, loss_word=0.088]  \n"
     ]
    },
    {
     "name": "stdout",
     "output_type": "stream",
     "text": [
      "### F1 Score: \n",
      "               precision    recall  f1-score   support\n",
      "\n",
      "         0.0       0.95      0.88      0.91     20125\n",
      "         1.0       0.21      0.57      0.31      1722\n",
      "         2.0       0.85      0.51      0.64      3111\n",
      "\n",
      "    accuracy                           0.81     24958\n",
      "   macro avg       0.67      0.65      0.62     24958\n",
      "weighted avg       0.89      0.81      0.84     24958\n",
      "\n",
      "Save state dict and result to /data/codes/prep_ps_pykaldi/exp/ckpts/in_long_old/ckpts-eph=29-mse=0.12970000505447388\n",
      "### Validation result (epoch=29)\n",
      "  Phone level:  MSE=0.130  MAE=0.214  PCC=0.805 \n",
      "   Word level:  MSE=0.092  MAE=0.223  PCC=0.802 \n",
      "    Utt level:  MSE=0.022  MAE=0.114  PCC=0.907 \n"
     ]
    },
    {
     "name": "stderr",
     "output_type": "stream",
     "text": [
      "Training: 100%|██████████| 195/195 [00:01<00:00, 125.04it/s, loss=0.309, loss_phn=0.144, loss_utt=0.0115, loss_word=0.154]   \n"
     ]
    },
    {
     "name": "stdout",
     "output_type": "stream",
     "text": [
      "### F1 Score: \n",
      "               precision    recall  f1-score   support\n",
      "\n",
      "         0.0       0.95      0.91      0.93     20125\n",
      "         1.0       0.23      0.51      0.32      1722\n",
      "         2.0       0.86      0.48      0.61      3111\n",
      "\n",
      "    accuracy                           0.83     24958\n",
      "   macro avg       0.68      0.63      0.62     24958\n",
      "weighted avg       0.89      0.83      0.85     24958\n",
      "\n",
      "Save state dict and result to /data/codes/prep_ps_pykaldi/exp/ckpts/in_long_old/ckpts-eph=30-mse=0.1290999948978424\n",
      "### Validation result (epoch=30)\n",
      "  Phone level:  MSE=0.129  MAE=0.199  PCC=0.810 \n",
      "   Word level:  MSE=0.091  MAE=0.217  PCC=0.821 \n",
      "    Utt level:  MSE=0.025  MAE=0.119  PCC=0.917 \n"
     ]
    },
    {
     "name": "stderr",
     "output_type": "stream",
     "text": [
      "Training: 100%|██████████| 195/195 [00:01<00:00, 137.84it/s, loss=0.234, loss_phn=0.131, loss_utt=0.0198, loss_word=0.0835]  \n"
     ]
    },
    {
     "name": "stdout",
     "output_type": "stream",
     "text": [
      "### F1 Score: \n",
      "               precision    recall  f1-score   support\n",
      "\n",
      "         0.0       0.96      0.88      0.92     20125\n",
      "         1.0       0.22      0.49      0.30      1722\n",
      "         2.0       0.80      0.65      0.72      3111\n",
      "\n",
      "    accuracy                           0.83     24958\n",
      "   macro avg       0.66      0.67      0.65     24958\n",
      "weighted avg       0.89      0.83      0.85     24958\n",
      "\n",
      "Save state dict and result to /data/codes/prep_ps_pykaldi/exp/ckpts/in_long_old/ckpts-eph=31-mse=0.12470000237226486\n",
      "### Validation result (epoch=31)\n",
      "  Phone level:  MSE=0.125  MAE=0.209  PCC=0.816 \n",
      "   Word level:  MSE=0.096  MAE=0.246  PCC=0.807 \n",
      "    Utt level:  MSE=0.017  MAE=0.103  PCC=0.926 \n"
     ]
    },
    {
     "name": "stderr",
     "output_type": "stream",
     "text": [
      "Training: 100%|██████████| 195/195 [00:01<00:00, 139.64it/s, loss=0.193, loss_phn=0.107, loss_utt=0.0226, loss_word=0.0633]  \n"
     ]
    },
    {
     "name": "stdout",
     "output_type": "stream",
     "text": [
      "### F1 Score: \n",
      "               precision    recall  f1-score   support\n",
      "\n",
      "         0.0       0.95      0.92      0.93     20125\n",
      "         1.0       0.23      0.50      0.32      1722\n",
      "         2.0       0.87      0.45      0.59      3111\n",
      "\n",
      "    accuracy                           0.84     24958\n",
      "   macro avg       0.68      0.62      0.62     24958\n",
      "weighted avg       0.89      0.84      0.85     24958\n",
      "\n",
      "Save state dict and result to /data/codes/prep_ps_pykaldi/exp/ckpts/in_long_old/ckpts-eph=32-mse=0.1264999955892563\n",
      "### Validation result (epoch=32)\n",
      "  Phone level:  MSE=0.127  MAE=0.199  PCC=0.819 \n",
      "   Word level:  MSE=0.097  MAE=0.230  PCC=0.803 \n",
      "    Utt level:  MSE=0.021  MAE=0.103  PCC=0.917 \n"
     ]
    },
    {
     "name": "stderr",
     "output_type": "stream",
     "text": [
      "Training: 100%|██████████| 195/195 [00:01<00:00, 156.92it/s, loss=0.228, loss_phn=0.116, loss_utt=0.0185, loss_word=0.0938]  \n"
     ]
    },
    {
     "name": "stdout",
     "output_type": "stream",
     "text": [
      "### F1 Score: \n",
      "               precision    recall  f1-score   support\n",
      "\n",
      "         0.0       0.95      0.91      0.93     20125\n",
      "         1.0       0.24      0.45      0.31      1722\n",
      "         2.0       0.81      0.62      0.70      3111\n",
      "\n",
      "    accuracy                           0.84     24958\n",
      "   macro avg       0.67      0.66      0.65     24958\n",
      "weighted avg       0.88      0.84      0.86     24958\n",
      "\n",
      "Save state dict and result to /data/codes/prep_ps_pykaldi/exp/ckpts/in_long_old/ckpts-eph=33-mse=0.1234000027179718\n",
      "### Validation result (epoch=33)\n",
      "  Phone level:  MSE=0.123  MAE=0.189  PCC=0.817 \n",
      "   Word level:  MSE=0.093  MAE=0.236  PCC=0.809 \n",
      "    Utt level:  MSE=0.023  MAE=0.112  PCC=0.908 \n"
     ]
    },
    {
     "name": "stderr",
     "output_type": "stream",
     "text": [
      "Training: 100%|██████████| 195/195 [00:01<00:00, 149.19it/s, loss=0.303, loss_phn=0.133, loss_utt=0.0553, loss_word=0.115]   \n"
     ]
    },
    {
     "name": "stdout",
     "output_type": "stream",
     "text": [
      "### F1 Score: \n",
      "               precision    recall  f1-score   support\n",
      "\n",
      "         0.0       0.96      0.86      0.91     20125\n",
      "         1.0       0.21      0.55      0.30      1722\n",
      "         2.0       0.83      0.62      0.71      3111\n",
      "\n",
      "    accuracy                           0.81     24958\n",
      "   macro avg       0.67      0.68      0.64     24958\n",
      "weighted avg       0.89      0.81      0.84     24958\n",
      "\n",
      "Save state dict and result to /data/codes/prep_ps_pykaldi/exp/ckpts/in_long_old/ckpts-eph=34-mse=0.12030000239610672\n",
      "### Validation result (epoch=34)\n",
      "  Phone level:  MSE=0.120  MAE=0.210  PCC=0.822 \n",
      "   Word level:  MSE=0.086  MAE=0.212  PCC=0.820 \n",
      "    Utt level:  MSE=0.019  MAE=0.103  PCC=0.916 \n"
     ]
    },
    {
     "name": "stderr",
     "output_type": "stream",
     "text": [
      "Training: 100%|██████████| 195/195 [00:01<00:00, 147.45it/s, loss=0.138, loss_phn=0.0773, loss_utt=0.00947, loss_word=0.0512]\n"
     ]
    },
    {
     "name": "stdout",
     "output_type": "stream",
     "text": [
      "### F1 Score: \n",
      "               precision    recall  f1-score   support\n",
      "\n",
      "         0.0       0.96      0.90      0.93     20125\n",
      "         1.0       0.24      0.56      0.33      1722\n",
      "         2.0       0.87      0.53      0.66      3111\n",
      "\n",
      "    accuracy                           0.83     24958\n",
      "   macro avg       0.69      0.67      0.64     24958\n",
      "weighted avg       0.90      0.83      0.85     24958\n",
      "\n",
      "Save state dict and result to /data/codes/prep_ps_pykaldi/exp/ckpts/in_long_old/ckpts-eph=35-mse=0.1143999993801117\n",
      "### Validation result (epoch=35)\n",
      "  Phone level:  MSE=0.114  MAE=0.195  PCC=0.833 \n",
      "   Word level:  MSE=0.086  MAE=0.222  PCC=0.831 \n",
      "    Utt level:  MSE=0.017  MAE=0.098  PCC=0.930 \n"
     ]
    },
    {
     "name": "stderr",
     "output_type": "stream",
     "text": [
      "Training: 100%|██████████| 195/195 [00:01<00:00, 155.07it/s, loss=0.23, loss_phn=0.136, loss_utt=0.0164, loss_word=0.0775]   \n"
     ]
    },
    {
     "name": "stdout",
     "output_type": "stream",
     "text": [
      "### F1 Score: \n",
      "               precision    recall  f1-score   support\n",
      "\n",
      "         0.0       0.96      0.87      0.91     20125\n",
      "         1.0       0.21      0.51      0.30      1722\n",
      "         2.0       0.81      0.65      0.72      3111\n",
      "\n",
      "    accuracy                           0.82     24958\n",
      "   macro avg       0.66      0.68      0.64     24958\n",
      "weighted avg       0.89      0.82      0.85     24958\n",
      "\n",
      "Save state dict and result to /data/codes/prep_ps_pykaldi/exp/ckpts/in_long_old/ckpts-eph=36-mse=0.11860000342130661\n",
      "### Validation result (epoch=36)\n",
      "  Phone level:  MSE=0.119  MAE=0.205  PCC=0.825 \n",
      "   Word level:  MSE=0.085  MAE=0.224  PCC=0.831 \n",
      "    Utt level:  MSE=0.020  MAE=0.109  PCC=0.921 \n"
     ]
    },
    {
     "name": "stderr",
     "output_type": "stream",
     "text": [
      "Training: 100%|██████████| 195/195 [00:01<00:00, 176.96it/s, loss=0.16, loss_phn=0.0823, loss_utt=0.016, loss_word=0.0616]   \n"
     ]
    },
    {
     "name": "stdout",
     "output_type": "stream",
     "text": [
      "### F1 Score: \n",
      "               precision    recall  f1-score   support\n",
      "\n",
      "         0.0       0.96      0.90      0.93     20125\n",
      "         1.0       0.24      0.47      0.31      1722\n",
      "         2.0       0.81      0.69      0.75      3111\n",
      "\n",
      "    accuracy                           0.84     24958\n",
      "   macro avg       0.67      0.69      0.66     24958\n",
      "weighted avg       0.89      0.84      0.86     24958\n",
      "\n",
      "Save state dict and result to /data/codes/prep_ps_pykaldi/exp/ckpts/in_long_old/ckpts-eph=37-mse=0.11020000278949738\n",
      "### Validation result (epoch=37)\n",
      "  Phone level:  MSE=0.110  MAE=0.184  PCC=0.839 \n",
      "   Word level:  MSE=0.078  MAE=0.206  PCC=0.838 \n",
      "    Utt level:  MSE=0.016  MAE=0.095  PCC=0.931 \n"
     ]
    },
    {
     "name": "stderr",
     "output_type": "stream",
     "text": [
      "Training: 100%|██████████| 195/195 [00:01<00:00, 132.68it/s, loss=0.233, loss_phn=0.121, loss_utt=0.0159, loss_word=0.0955]   \n"
     ]
    },
    {
     "name": "stdout",
     "output_type": "stream",
     "text": [
      "### F1 Score: \n",
      "               precision    recall  f1-score   support\n",
      "\n",
      "         0.0       0.95      0.91      0.93     20125\n",
      "         1.0       0.24      0.50      0.32      1722\n",
      "         2.0       0.84      0.61      0.71      3111\n",
      "\n",
      "    accuracy                           0.84     24958\n",
      "   macro avg       0.68      0.67      0.65     24958\n",
      "weighted avg       0.89      0.84      0.86     24958\n",
      "\n",
      "Save state dict and result to /data/codes/prep_ps_pykaldi/exp/ckpts/in_long_old/ckpts-eph=38-mse=0.11259999871253967\n",
      "### Validation result (epoch=38)\n",
      "  Phone level:  MSE=0.113  MAE=0.189  PCC=0.834 \n",
      "   Word level:  MSE=0.082  MAE=0.198  PCC=0.842 \n",
      "    Utt level:  MSE=0.018  MAE=0.096  PCC=0.930 \n"
     ]
    },
    {
     "name": "stderr",
     "output_type": "stream",
     "text": [
      "Training: 100%|██████████| 195/195 [00:01<00:00, 141.38it/s, loss=0.155, loss_phn=0.078, loss_utt=0.0114, loss_word=0.0655]  \n"
     ]
    },
    {
     "name": "stdout",
     "output_type": "stream",
     "text": [
      "### F1 Score: \n",
      "               precision    recall  f1-score   support\n",
      "\n",
      "         0.0       0.96      0.91      0.93     20125\n",
      "         1.0       0.25      0.51      0.34      1722\n",
      "         2.0       0.85      0.61      0.71      3111\n",
      "\n",
      "    accuracy                           0.85     24958\n",
      "   macro avg       0.69      0.68      0.66     24958\n",
      "weighted avg       0.89      0.85      0.86     24958\n",
      "\n",
      "Save state dict and result to /data/codes/prep_ps_pykaldi/exp/ckpts/in_long_old/ckpts-eph=39-mse=0.10580000281333923\n",
      "### Validation result (epoch=39)\n",
      "  Phone level:  MSE=0.106  MAE=0.183  PCC=0.845 \n",
      "   Word level:  MSE=0.078  MAE=0.209  PCC=0.841 \n",
      "    Utt level:  MSE=0.016  MAE=0.100  PCC=0.932 \n"
     ]
    },
    {
     "name": "stderr",
     "output_type": "stream",
     "text": [
      "Training: 100%|██████████| 195/195 [00:01<00:00, 136.74it/s, loss=0.176, loss_phn=0.0895, loss_utt=0.00745, loss_word=0.0785]  \n"
     ]
    },
    {
     "name": "stdout",
     "output_type": "stream",
     "text": [
      "### F1 Score: \n",
      "               precision    recall  f1-score   support\n",
      "\n",
      "         0.0       0.96      0.90      0.93     20125\n",
      "         1.0       0.23      0.51      0.32      1722\n",
      "         2.0       0.84      0.61      0.71      3111\n",
      "\n",
      "    accuracy                           0.84     24958\n",
      "   macro avg       0.67      0.67      0.65     24958\n",
      "weighted avg       0.89      0.84      0.86     24958\n",
      "\n",
      "Save state dict and result to /data/codes/prep_ps_pykaldi/exp/ckpts/in_long_old/ckpts-eph=40-mse=0.11249999701976776\n",
      "### Validation result (epoch=40)\n",
      "  Phone level:  MSE=0.113  MAE=0.204  PCC=0.835 \n",
      "   Word level:  MSE=0.085  MAE=0.235  PCC=0.842 \n",
      "    Utt level:  MSE=0.018  MAE=0.106  PCC=0.926 \n"
     ]
    },
    {
     "name": "stderr",
     "output_type": "stream",
     "text": [
      "Training: 100%|██████████| 195/195 [00:01<00:00, 146.05it/s, loss=0.267, loss_phn=0.167, loss_utt=0.0163, loss_word=0.0838]  \n"
     ]
    },
    {
     "name": "stdout",
     "output_type": "stream",
     "text": [
      "### F1 Score: \n",
      "               precision    recall  f1-score   support\n",
      "\n",
      "         0.0       0.96      0.92      0.94     20125\n",
      "         1.0       0.25      0.50      0.34      1722\n",
      "         2.0       0.84      0.60      0.70      3111\n",
      "\n",
      "    accuracy                           0.85     24958\n",
      "   macro avg       0.68      0.67      0.66     24958\n",
      "weighted avg       0.89      0.85      0.87     24958\n",
      "\n",
      "Save state dict and result to /data/codes/prep_ps_pykaldi/exp/ckpts/in_long_old/ckpts-eph=41-mse=0.10570000112056732\n",
      "### Validation result (epoch=41)\n",
      "  Phone level:  MSE=0.106  MAE=0.203  PCC=0.848 \n",
      "   Word level:  MSE=0.078  MAE=0.191  PCC=0.840 \n",
      "    Utt level:  MSE=0.022  MAE=0.107  PCC=0.928 \n"
     ]
    },
    {
     "name": "stderr",
     "output_type": "stream",
     "text": [
      "Training: 100%|██████████| 195/195 [00:01<00:00, 138.43it/s, loss=0.229, loss_phn=0.132, loss_utt=0.0147, loss_word=0.0829]  \n"
     ]
    },
    {
     "name": "stdout",
     "output_type": "stream",
     "text": [
      "### F1 Score: \n",
      "               precision    recall  f1-score   support\n",
      "\n",
      "         0.0       0.96      0.92      0.94     20125\n",
      "         1.0       0.25      0.48      0.33      1722\n",
      "         2.0       0.84      0.64      0.73      3111\n",
      "\n",
      "    accuracy                           0.85     24958\n",
      "   macro avg       0.68      0.68      0.67     24958\n",
      "weighted avg       0.89      0.85      0.87     24958\n",
      "\n",
      "Save state dict and result to /data/codes/prep_ps_pykaldi/exp/ckpts/in_long_old/ckpts-eph=42-mse=0.10459999740123749\n",
      "### Validation result (epoch=42)\n",
      "  Phone level:  MSE=0.105  MAE=0.193  PCC=0.847 \n",
      "   Word level:  MSE=0.071  MAE=0.186  PCC=0.855 \n",
      "    Utt level:  MSE=0.015  MAE=0.095  PCC=0.943 \n"
     ]
    },
    {
     "name": "stderr",
     "output_type": "stream",
     "text": [
      "Training: 100%|██████████| 195/195 [00:01<00:00, 132.31it/s, loss=0.223, loss_phn=0.148, loss_utt=0.00666, loss_word=0.0689]  \n"
     ]
    },
    {
     "name": "stdout",
     "output_type": "stream",
     "text": [
      "### F1 Score: \n",
      "               precision    recall  f1-score   support\n",
      "\n",
      "         0.0       0.95      0.96      0.95     20125\n",
      "         1.0       0.30      0.46      0.36      1722\n",
      "         2.0       0.88      0.57      0.69      3111\n",
      "\n",
      "    accuracy                           0.87     24958\n",
      "   macro avg       0.71      0.66      0.67     24958\n",
      "weighted avg       0.90      0.87      0.88     24958\n",
      "\n",
      "Save state dict and result to /data/codes/prep_ps_pykaldi/exp/ckpts/in_long_old/ckpts-eph=43-mse=0.10300000011920929\n",
      "### Validation result (epoch=43)\n",
      "  Phone level:  MSE=0.103  MAE=0.166  PCC=0.856 \n",
      "   Word level:  MSE=0.077  MAE=0.185  PCC=0.860 \n",
      "    Utt level:  MSE=0.024  MAE=0.118  PCC=0.939 \n"
     ]
    },
    {
     "name": "stderr",
     "output_type": "stream",
     "text": [
      "Training: 100%|██████████| 195/195 [00:01<00:00, 131.74it/s, loss=0.199, loss_phn=0.114, loss_utt=0.0185, loss_word=0.0666]  \n"
     ]
    },
    {
     "name": "stdout",
     "output_type": "stream",
     "text": [
      "### F1 Score: \n",
      "               precision    recall  f1-score   support\n",
      "\n",
      "         0.0       0.95      0.94      0.95     20125\n",
      "         1.0       0.28      0.48      0.35      1722\n",
      "         2.0       0.87      0.59      0.70      3111\n",
      "\n",
      "    accuracy                           0.86     24958\n",
      "   macro avg       0.70      0.67      0.67     24958\n",
      "weighted avg       0.90      0.86      0.87     24958\n",
      "\n",
      "Save state dict and result to /data/codes/prep_ps_pykaldi/exp/ckpts/in_long_old/ckpts-eph=44-mse=0.10170000046491623\n",
      "### Validation result (epoch=44)\n",
      "  Phone level:  MSE=0.102  MAE=0.176  PCC=0.854 \n",
      "   Word level:  MSE=0.075  MAE=0.198  PCC=0.855 \n",
      "    Utt level:  MSE=0.020  MAE=0.106  PCC=0.941 \n"
     ]
    },
    {
     "name": "stderr",
     "output_type": "stream",
     "text": [
      "Training: 100%|██████████| 195/195 [00:01<00:00, 137.12it/s, loss=0.127, loss_phn=0.0752, loss_utt=0.0124, loss_word=0.0398] \n"
     ]
    },
    {
     "name": "stdout",
     "output_type": "stream",
     "text": [
      "### F1 Score: \n",
      "               precision    recall  f1-score   support\n",
      "\n",
      "         0.0       0.96      0.92      0.94     20125\n",
      "         1.0       0.27      0.48      0.34      1722\n",
      "         2.0       0.84      0.71      0.77      3111\n",
      "\n",
      "    accuracy                           0.86     24958\n",
      "   macro avg       0.69      0.70      0.68     24958\n",
      "weighted avg       0.90      0.86      0.88     24958\n",
      "\n",
      "Save state dict and result to /data/codes/prep_ps_pykaldi/exp/ckpts/in_long_old/ckpts-eph=45-mse=0.094200000166893\n",
      "### Validation result (epoch=45)\n",
      "  Phone level:  MSE=0.094  MAE=0.186  PCC=0.865 \n",
      "   Word level:  MSE=0.075  MAE=0.207  PCC=0.848 \n",
      "    Utt level:  MSE=0.013  MAE=0.091  PCC=0.944 \n"
     ]
    },
    {
     "name": "stderr",
     "output_type": "stream",
     "text": [
      "Training: 100%|██████████| 195/195 [00:01<00:00, 135.59it/s, loss=0.208, loss_phn=0.133, loss_utt=0.00459, loss_word=0.0704]  \n"
     ]
    },
    {
     "name": "stdout",
     "output_type": "stream",
     "text": [
      "### F1 Score: \n",
      "               precision    recall  f1-score   support\n",
      "\n",
      "         0.0       0.96      0.94      0.95     20125\n",
      "         1.0       0.29      0.50      0.37      1722\n",
      "         2.0       0.87      0.63      0.73      3111\n",
      "\n",
      "    accuracy                           0.87     24958\n",
      "   macro avg       0.70      0.69      0.68     24958\n",
      "weighted avg       0.90      0.87      0.88     24958\n",
      "\n",
      "Save state dict and result to /data/codes/prep_ps_pykaldi/exp/ckpts/in_long_old/ckpts-eph=46-mse=0.09390000253915787\n",
      "### Validation result (epoch=46)\n",
      "  Phone level:  MSE=0.094  MAE=0.169  PCC=0.866 \n",
      "   Word level:  MSE=0.073  MAE=0.205  PCC=0.860 \n",
      "    Utt level:  MSE=0.014  MAE=0.090  PCC=0.946 \n"
     ]
    },
    {
     "name": "stderr",
     "output_type": "stream",
     "text": [
      "Training: 100%|██████████| 195/195 [00:01<00:00, 149.40it/s, loss=0.205, loss_phn=0.119, loss_utt=0.00456, loss_word=0.0815]  \n"
     ]
    },
    {
     "name": "stdout",
     "output_type": "stream",
     "text": [
      "### F1 Score: \n",
      "               precision    recall  f1-score   support\n",
      "\n",
      "         0.0       0.95      0.96      0.95     20125\n",
      "         1.0       0.30      0.42      0.35      1722\n",
      "         2.0       0.87      0.59      0.70      3111\n",
      "\n",
      "    accuracy                           0.88     24958\n",
      "   macro avg       0.71      0.66      0.67     24958\n",
      "weighted avg       0.89      0.88      0.88     24958\n",
      "\n",
      "Save state dict and result to /data/codes/prep_ps_pykaldi/exp/ckpts/in_long_old/ckpts-eph=47-mse=0.10350000113248825\n",
      "### Validation result (epoch=47)\n",
      "  Phone level:  MSE=0.103  MAE=0.168  PCC=0.853 \n",
      "   Word level:  MSE=0.077  MAE=0.193  PCC=0.854 \n",
      "    Utt level:  MSE=0.019  MAE=0.104  PCC=0.938 \n"
     ]
    },
    {
     "name": "stderr",
     "output_type": "stream",
     "text": [
      "Training: 100%|██████████| 195/195 [00:01<00:00, 138.33it/s, loss=0.275, loss_phn=0.149, loss_utt=0.0288, loss_word=0.0973]   \n"
     ]
    },
    {
     "name": "stdout",
     "output_type": "stream",
     "text": [
      "### F1 Score: \n",
      "               precision    recall  f1-score   support\n",
      "\n",
      "         0.0       0.96      0.91      0.94     20125\n",
      "         1.0       0.26      0.48      0.34      1722\n",
      "         2.0       0.83      0.72      0.77      3111\n",
      "\n",
      "    accuracy                           0.86     24958\n",
      "   macro avg       0.69      0.70      0.68     24958\n",
      "weighted avg       0.90      0.86      0.88     24958\n",
      "\n",
      "Save state dict and result to /data/codes/prep_ps_pykaldi/exp/ckpts/in_long_old/ckpts-eph=48-mse=0.09269999712705612\n",
      "### Validation result (epoch=48)\n",
      "  Phone level:  MSE=0.093  MAE=0.182  PCC=0.867 \n",
      "   Word level:  MSE=0.067  MAE=0.194  PCC=0.867 \n",
      "    Utt level:  MSE=0.016  MAE=0.100  PCC=0.942 \n"
     ]
    },
    {
     "name": "stderr",
     "output_type": "stream",
     "text": [
      "Training: 100%|██████████| 195/195 [00:01<00:00, 150.57it/s, loss=0.288, loss_phn=0.137, loss_utt=0.0351, loss_word=0.116]    \n"
     ]
    },
    {
     "name": "stdout",
     "output_type": "stream",
     "text": [
      "### F1 Score: \n",
      "               precision    recall  f1-score   support\n",
      "\n",
      "         0.0       0.96      0.91      0.94     20125\n",
      "         1.0       0.26      0.53      0.35      1722\n",
      "         2.0       0.86      0.67      0.75      3111\n",
      "\n",
      "    accuracy                           0.85     24958\n",
      "   macro avg       0.69      0.70      0.68     24958\n",
      "weighted avg       0.90      0.85      0.87     24958\n",
      "\n",
      "Save state dict and result to /data/codes/prep_ps_pykaldi/exp/ckpts/in_long_old/ckpts-eph=49-mse=0.0925000011920929\n",
      "### Validation result (epoch=49)\n",
      "  Phone level:  MSE=0.093  MAE=0.176  PCC=0.866 \n",
      "   Word level:  MSE=0.062  MAE=0.180  PCC=0.874 \n",
      "    Utt level:  MSE=0.013  MAE=0.089  PCC=0.944 \n"
     ]
    },
    {
     "data": {
      "image/png": "[encoded data removed]",
      "text/plain": [
       "<Figure size 640x480 with 1 Axes>"
      ]
     },
     "metadata": {},
     "output_type": "display_data"
    }
   ],
   "source": [
    "global_step = 0\n",
    "best_mse = 1e5\n",
    "num_epoch = 50 \n",
    "phone_weight = 1.0\n",
    "word_weight = 1.0\n",
    "utterance_weight = 1.0\n",
    "ckpt_dir = '/data/codes/prep_ps_pykaldi/exp/ckpts/in_long_old'\n",
    "\n",
    "for epoch in range(num_epoch):\n",
    "    gopt_model.train()\n",
    "    train_tqdm = tqdm(trainloader, \"Training\")\n",
    "    for batch in train_tqdm:\n",
    "        optimizer.zero_grad()\n",
    "\n",
    "        features, phone_ids, word_ids, \\\n",
    "            phone_labels, word_labels, utterance_labels = to_device(batch, device)\n",
    "\n",
    "        utterance_preds, phone_preds, word_preds = gopt_model(\n",
    "            x=features.float(), phn=phone_ids.long())\n",
    "        \n",
    "        loss_phn, loss_utt, loss_word = calculate_losses(\n",
    "            phone_preds=phone_preds, \n",
    "            phone_labels=phone_labels, \n",
    "            word_preds=word_preds, \n",
    "            word_labels=word_labels, \n",
    "            utterance_preds=utterance_preds, \n",
    "            utterance_labels=utterance_labels)\n",
    "\n",
    "        # total loss\n",
    "        loss = phone_weight*loss_phn + word_weight*loss_word + utterance_weight*loss_utt\n",
    "        \n",
    "        loss.backward()\n",
    "        torch.nn.utils.clip_grad_norm_(gopt_model.parameters(), 1.0)\n",
    "        \n",
    "        optimizer.step()\n",
    "        \n",
    "        global_step += 1\n",
    "        train_tqdm.set_postfix(\n",
    "            loss=loss.item(), \n",
    "            loss_phn=loss_phn.item(), \n",
    "            loss_word=loss_word.item(), \n",
    "            loss_utt=loss_utt.item())\n",
    "    \n",
    "    valid_result = validate(\n",
    "        epoch=epoch, \n",
    "        gopt_model=gopt_model, \n",
    "        testloader=testloader, \n",
    "        best_mse=best_mse, \n",
    "        ckpt_dir=ckpt_dir)\n",
    "    \n",
    "    best_mse = valid_result[\"best_mse\"]\n"
   ]
  },
  {
   "cell_type": "code",
   "execution_count": null,
   "metadata": {},
   "outputs": [],
   "source": []
  },
  {
   "cell_type": "code",
   "execution_count": null,
   "metadata": {},
   "outputs": [],
   "source": []
  }
 ],
 "metadata": {
  "kernelspec": {
   "display_name": "ps",
   "language": "python",
   "name": "python3"
  },
  "language_info": {
   "codemirror_mode": {
    "name": "ipython",
    "version": 3
   },
   "file_extension": ".py",
   "mimetype": "text/x-python",
   "name": "python",
   "nbconvert_exporter": "python",
   "pygments_lexer": "ipython3",
   "version": "3.8.17"
  },
  "orig_nbformat": 4
 },
 "nbformat": 4,
 "nbformat_minor": 2
}
