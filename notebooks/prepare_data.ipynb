{
 "cells": [
  {
   "cell_type": "code",
   "execution_count": 1,
   "metadata": {},
   "outputs": [
    {
     "name": "stdout",
     "output_type": "stream",
     "text": [
      "/data/codes/prep_ps_pykaldi\n",
      "INFO: Pandarallel will run on 10 workers.\n",
      "INFO: Pandarallel will use Memory file system to transfer data between the main process and workers.\n"
     ]
    }
   ],
   "source": [
    "%cd /data/codes/prep_ps_pykaldi\n",
    "\n",
    "import pandas as pd\n",
    "import os\n",
    "from glob import glob\n",
    "import json\n",
    "from pandarallel import pandarallel\n",
    "import random\n",
    "import re\n",
    "\n",
    "pandarallel.initialize(nb_workers=10, progress_bar=True)"
   ]
  },
  {
   "cell_type": "code",
   "execution_count": 3,
   "metadata": {},
   "outputs": [
    {
     "data": {
      "text/html": [
       "<div>\n",
       "<style scoped>\n",
       "    .dataframe tbody tr th:only-of-type {\n",
       "        vertical-align: middle;\n",
       "    }\n",
       "\n",
       "    .dataframe tbody tr th {\n",
       "        vertical-align: top;\n",
       "    }\n",
       "\n",
       "    .dataframe thead th {\n",
       "        text-align: right;\n",
       "    }\n",
       "</style>\n",
       "<table border=\"1\" class=\"dataframe\">\n",
       "  <thead>\n",
       "    <tr style=\"text-align: right;\">\n",
       "      <th></th>\n",
       "      <th>id</th>\n",
       "      <th>is_deleted</th>\n",
       "      <th>user_id</th>\n",
       "      <th>question_id</th>\n",
       "      <th>question_type</th>\n",
       "      <th>question_content</th>\n",
       "      <th>url</th>\n",
       "      <th>score</th>\n",
       "      <th>fidelity_class</th>\n",
       "      <th>created_at</th>\n",
       "      <th>total_time</th>\n",
       "      <th>word_count</th>\n",
       "    </tr>\n",
       "  </thead>\n",
       "  <tbody>\n",
       "    <tr>\n",
       "      <th>0</th>\n",
       "      <td>5583482</td>\n",
       "      <td>0</td>\n",
       "      <td>189760.0</td>\n",
       "      <td>156698</td>\n",
       "      <td>12</td>\n",
       "      <td>I have a carrot and a banana.</td>\n",
       "      <td>https://storage.googleapis.com/materials-eleme...</td>\n",
       "      <td>85.78</td>\n",
       "      <td>RELEVANT</td>\n",
       "      <td>2023-09-18 22:02:30</td>\n",
       "      <td>4.08</td>\n",
       "      <td>7.0</td>\n",
       "    </tr>\n",
       "    <tr>\n",
       "      <th>1</th>\n",
       "      <td>5583510</td>\n",
       "      <td>0</td>\n",
       "      <td>189760.0</td>\n",
       "      <td>156699</td>\n",
       "      <td>12</td>\n",
       "      <td>The atlas contains a lot of maps.</td>\n",
       "      <td>https://storage.googleapis.com/materials-eleme...</td>\n",
       "      <td>63.59</td>\n",
       "      <td>RELEVANT</td>\n",
       "      <td>2023-09-18 22:02:48</td>\n",
       "      <td>4.28</td>\n",
       "      <td>7.0</td>\n",
       "    </tr>\n",
       "    <tr>\n",
       "      <th>2</th>\n",
       "      <td>5583531</td>\n",
       "      <td>0</td>\n",
       "      <td>189760.0</td>\n",
       "      <td>156700</td>\n",
       "      <td>12</td>\n",
       "      <td>He talked about his illness.</td>\n",
       "      <td>https://storage.googleapis.com/materials-eleme...</td>\n",
       "      <td>47.02</td>\n",
       "      <td>RELEVANT</td>\n",
       "      <td>2023-09-18 22:03:03</td>\n",
       "      <td>3.42</td>\n",
       "      <td>5.0</td>\n",
       "    </tr>\n",
       "    <tr>\n",
       "      <th>3</th>\n",
       "      <td>5583561</td>\n",
       "      <td>0</td>\n",
       "      <td>189760.0</td>\n",
       "      <td>156701</td>\n",
       "      <td>12</td>\n",
       "      <td>Father went around the apartment.</td>\n",
       "      <td>https://storage.googleapis.com/materials-eleme...</td>\n",
       "      <td>71.89</td>\n",
       "      <td>RELEVANT</td>\n",
       "      <td>2023-09-18 22:03:18</td>\n",
       "      <td>3.62</td>\n",
       "      <td>5.0</td>\n",
       "    </tr>\n",
       "    <tr>\n",
       "      <th>4</th>\n",
       "      <td>5583596</td>\n",
       "      <td>0</td>\n",
       "      <td>189760.0</td>\n",
       "      <td>156702</td>\n",
       "      <td>12</td>\n",
       "      <td>The company will supply the telephones.</td>\n",
       "      <td>https://storage.googleapis.com/materials-eleme...</td>\n",
       "      <td>62.57</td>\n",
       "      <td>RELEVANT</td>\n",
       "      <td>2023-09-18 22:03:34</td>\n",
       "      <td>4.40</td>\n",
       "      <td>6.0</td>\n",
       "    </tr>\n",
       "    <tr>\n",
       "      <th>5</th>\n",
       "      <td>5583622</td>\n",
       "      <td>0</td>\n",
       "      <td>189760.0</td>\n",
       "      <td>156703</td>\n",
       "      <td>12</td>\n",
       "      <td>I was sitting alone on the sofa.</td>\n",
       "      <td>https://storage.googleapis.com/materials-eleme...</td>\n",
       "      <td>63.64</td>\n",
       "      <td>RELEVANT</td>\n",
       "      <td>2023-09-18 22:03:50</td>\n",
       "      <td>3.86</td>\n",
       "      <td>7.0</td>\n",
       "    </tr>\n",
       "    <tr>\n",
       "      <th>6</th>\n",
       "      <td>5583641</td>\n",
       "      <td>0</td>\n",
       "      <td>189760.0</td>\n",
       "      <td>156705</td>\n",
       "      <td>12</td>\n",
       "      <td>The performance in the circus was amazing.</td>\n",
       "      <td>https://storage.googleapis.com/materials-eleme...</td>\n",
       "      <td>54.44</td>\n",
       "      <td>RELEVANT</td>\n",
       "      <td>2023-09-18 22:04:05</td>\n",
       "      <td>4.38</td>\n",
       "      <td>7.0</td>\n",
       "    </tr>\n",
       "    <tr>\n",
       "      <th>7</th>\n",
       "      <td>5583656</td>\n",
       "      <td>0</td>\n",
       "      <td>189760.0</td>\n",
       "      <td>156706</td>\n",
       "      <td>12</td>\n",
       "      <td>He suggested a system.</td>\n",
       "      <td>https://storage.googleapis.com/materials-eleme...</td>\n",
       "      <td>50.16</td>\n",
       "      <td>RELEVANT</td>\n",
       "      <td>2023-09-18 22:04:18</td>\n",
       "      <td>2.76</td>\n",
       "      <td>4.0</td>\n",
       "    </tr>\n",
       "    <tr>\n",
       "      <th>8</th>\n",
       "      <td>4141433</td>\n",
       "      <td>0</td>\n",
       "      <td>181790.0</td>\n",
       "      <td>125219</td>\n",
       "      <td>12</td>\n",
       "      <td>He's painting a portion of the wall.</td>\n",
       "      <td>https://storage.googleapis.com/materials-eleme...</td>\n",
       "      <td>65.39</td>\n",
       "      <td>RELEVANT</td>\n",
       "      <td>2023-07-23 23:47:44</td>\n",
       "      <td>4.67</td>\n",
       "      <td>7.0</td>\n",
       "    </tr>\n",
       "    <tr>\n",
       "      <th>9</th>\n",
       "      <td>4141439</td>\n",
       "      <td>0</td>\n",
       "      <td>181790.0</td>\n",
       "      <td>125220</td>\n",
       "      <td>12</td>\n",
       "      <td>He's repositioning a stepladder.</td>\n",
       "      <td>https://storage.googleapis.com/materials-eleme...</td>\n",
       "      <td>79.95</td>\n",
       "      <td>RELEVANT</td>\n",
       "      <td>2023-07-23 23:48:04</td>\n",
       "      <td>5.19</td>\n",
       "      <td>4.0</td>\n",
       "    </tr>\n",
       "    <tr>\n",
       "      <th>10</th>\n",
       "      <td>4141445</td>\n",
       "      <td>0</td>\n",
       "      <td>181790.0</td>\n",
       "      <td>125221</td>\n",
       "      <td>12</td>\n",
       "      <td>He's extending his arms upward.</td>\n",
       "      <td>https://storage.googleapis.com/materials-eleme...</td>\n",
       "      <td>51.25</td>\n",
       "      <td>RELEVANT</td>\n",
       "      <td>2023-07-23 23:48:25</td>\n",
       "      <td>6.21</td>\n",
       "      <td>5.0</td>\n",
       "    </tr>\n",
       "    <tr>\n",
       "      <th>11</th>\n",
       "      <td>4141450</td>\n",
       "      <td>0</td>\n",
       "      <td>181790.0</td>\n",
       "      <td>125222</td>\n",
       "      <td>12</td>\n",
       "      <td>One of the women is cleaning a counter.</td>\n",
       "      <td>https://storage.googleapis.com/materials-eleme...</td>\n",
       "      <td>75.10</td>\n",
       "      <td>RELEVANT</td>\n",
       "      <td>2023-07-23 23:48:41</td>\n",
       "      <td>3.73</td>\n",
       "      <td>8.0</td>\n",
       "    </tr>\n",
       "    <tr>\n",
       "      <th>12</th>\n",
       "      <td>4141452</td>\n",
       "      <td>0</td>\n",
       "      <td>181790.0</td>\n",
       "      <td>125223</td>\n",
       "      <td>12</td>\n",
       "      <td>One of the women is filling plates with cupcakes.</td>\n",
       "      <td>https://storage.googleapis.com/materials-eleme...</td>\n",
       "      <td>65.13</td>\n",
       "      <td>RELEVANT</td>\n",
       "      <td>2023-07-23 23:48:55</td>\n",
       "      <td>5.53</td>\n",
       "      <td>9.0</td>\n",
       "    </tr>\n",
       "    <tr>\n",
       "      <th>13</th>\n",
       "      <td>4141453</td>\n",
       "      <td>0</td>\n",
       "      <td>181790.0</td>\n",
       "      <td>125224</td>\n",
       "      <td>12</td>\n",
       "      <td>One of the women is lifting a cup.</td>\n",
       "      <td>https://storage.googleapis.com/materials-eleme...</td>\n",
       "      <td>86.51</td>\n",
       "      <td>RELEVANT</td>\n",
       "      <td>2023-07-23 23:49:11</td>\n",
       "      <td>3.91</td>\n",
       "      <td>8.0</td>\n",
       "    </tr>\n",
       "    <tr>\n",
       "      <th>14</th>\n",
       "      <td>4141454</td>\n",
       "      <td>0</td>\n",
       "      <td>181790.0</td>\n",
       "      <td>125225</td>\n",
       "      <td>12</td>\n",
       "      <td>One of the women is taking baked goods out of ...</td>\n",
       "      <td>https://storage.googleapis.com/materials-eleme...</td>\n",
       "      <td>69.54</td>\n",
       "      <td>RELEVANT</td>\n",
       "      <td>2023-07-23 23:49:27</td>\n",
       "      <td>5.87</td>\n",
       "      <td>12.0</td>\n",
       "    </tr>\n",
       "    <tr>\n",
       "      <th>15</th>\n",
       "      <td>4141455</td>\n",
       "      <td>0</td>\n",
       "      <td>181790.0</td>\n",
       "      <td>125226</td>\n",
       "      <td>12</td>\n",
       "      <td>A woman has her hand on a computer.</td>\n",
       "      <td>https://storage.googleapis.com/materials-eleme...</td>\n",
       "      <td>74.35</td>\n",
       "      <td>RELEVANT</td>\n",
       "      <td>2023-07-23 23:49:47</td>\n",
       "      <td>4.84</td>\n",
       "      <td>8.0</td>\n",
       "    </tr>\n",
       "    <tr>\n",
       "      <th>16</th>\n",
       "      <td>4141456</td>\n",
       "      <td>0</td>\n",
       "      <td>181790.0</td>\n",
       "      <td>125227</td>\n",
       "      <td>12</td>\n",
       "      <td>They're studying x-ray images.</td>\n",
       "      <td>https://storage.googleapis.com/materials-eleme...</td>\n",
       "      <td>82.84</td>\n",
       "      <td>RELEVANT</td>\n",
       "      <td>2023-07-23 23:50:00</td>\n",
       "      <td>3.73</td>\n",
       "      <td>4.0</td>\n",
       "    </tr>\n",
       "    <tr>\n",
       "      <th>17</th>\n",
       "      <td>4141457</td>\n",
       "      <td>0</td>\n",
       "      <td>181790.0</td>\n",
       "      <td>125228</td>\n",
       "      <td>12</td>\n",
       "      <td>A man is turning on a screen.</td>\n",
       "      <td>https://storage.googleapis.com/materials-eleme...</td>\n",
       "      <td>95.76</td>\n",
       "      <td>RELEVANT</td>\n",
       "      <td>2023-07-23 23:50:12</td>\n",
       "      <td>4.25</td>\n",
       "      <td>7.0</td>\n",
       "    </tr>\n",
       "    <tr>\n",
       "      <th>18</th>\n",
       "      <td>4141459</td>\n",
       "      <td>0</td>\n",
       "      <td>181790.0</td>\n",
       "      <td>125229</td>\n",
       "      <td>12</td>\n",
       "      <td>Some people are filing a document.</td>\n",
       "      <td>https://storage.googleapis.com/materials-eleme...</td>\n",
       "      <td>87.15</td>\n",
       "      <td>RELEVANT</td>\n",
       "      <td>2023-07-23 23:50:26</td>\n",
       "      <td>3.82</td>\n",
       "      <td>6.0</td>\n",
       "    </tr>\n",
       "    <tr>\n",
       "      <th>19</th>\n",
       "      <td>4141462</td>\n",
       "      <td>0</td>\n",
       "      <td>181790.0</td>\n",
       "      <td>125230</td>\n",
       "      <td>12</td>\n",
       "      <td>She's paying for some jewelry at a checkout.</td>\n",
       "      <td>https://storage.googleapis.com/materials-eleme...</td>\n",
       "      <td>65.74</td>\n",
       "      <td>RELEVANT</td>\n",
       "      <td>2023-07-23 23:50:42</td>\n",
       "      <td>4.76</td>\n",
       "      <td>8.0</td>\n",
       "    </tr>\n",
       "  </tbody>\n",
       "</table>\n",
       "</div>"
      ],
      "text/plain": [
       "         id  is_deleted   user_id  question_id  question_type  \\\n",
       "0   5583482           0  189760.0       156698             12   \n",
       "1   5583510           0  189760.0       156699             12   \n",
       "2   5583531           0  189760.0       156700             12   \n",
       "3   5583561           0  189760.0       156701             12   \n",
       "4   5583596           0  189760.0       156702             12   \n",
       "5   5583622           0  189760.0       156703             12   \n",
       "6   5583641           0  189760.0       156705             12   \n",
       "7   5583656           0  189760.0       156706             12   \n",
       "8   4141433           0  181790.0       125219             12   \n",
       "9   4141439           0  181790.0       125220             12   \n",
       "10  4141445           0  181790.0       125221             12   \n",
       "11  4141450           0  181790.0       125222             12   \n",
       "12  4141452           0  181790.0       125223             12   \n",
       "13  4141453           0  181790.0       125224             12   \n",
       "14  4141454           0  181790.0       125225             12   \n",
       "15  4141455           0  181790.0       125226             12   \n",
       "16  4141456           0  181790.0       125227             12   \n",
       "17  4141457           0  181790.0       125228             12   \n",
       "18  4141459           0  181790.0       125229             12   \n",
       "19  4141462           0  181790.0       125230             12   \n",
       "\n",
       "                                     question_content  \\\n",
       "0                       I have a carrot and a banana.   \n",
       "1                   The atlas contains a lot of maps.   \n",
       "2                        He talked about his illness.   \n",
       "3                   Father went around the apartment.   \n",
       "4             The company will supply the telephones.   \n",
       "5                    I was sitting alone on the sofa.   \n",
       "6          The performance in the circus was amazing.   \n",
       "7                              He suggested a system.   \n",
       "8                He's painting a portion of the wall.   \n",
       "9                    He's repositioning a stepladder.   \n",
       "10                    He's extending his arms upward.   \n",
       "11            One of the women is cleaning a counter.   \n",
       "12  One of the women is filling plates with cupcakes.   \n",
       "13                 One of the women is lifting a cup.   \n",
       "14  One of the women is taking baked goods out of ...   \n",
       "15                A woman has her hand on a computer.   \n",
       "16                     They're studying x-ray images.   \n",
       "17                      A man is turning on a screen.   \n",
       "18                 Some people are filing a document.   \n",
       "19       She's paying for some jewelry at a checkout.   \n",
       "\n",
       "                                                  url  score fidelity_class  \\\n",
       "0   https://storage.googleapis.com/materials-eleme...  85.78       RELEVANT   \n",
       "1   https://storage.googleapis.com/materials-eleme...  63.59       RELEVANT   \n",
       "2   https://storage.googleapis.com/materials-eleme...  47.02       RELEVANT   \n",
       "3   https://storage.googleapis.com/materials-eleme...  71.89       RELEVANT   \n",
       "4   https://storage.googleapis.com/materials-eleme...  62.57       RELEVANT   \n",
       "5   https://storage.googleapis.com/materials-eleme...  63.64       RELEVANT   \n",
       "6   https://storage.googleapis.com/materials-eleme...  54.44       RELEVANT   \n",
       "7   https://storage.googleapis.com/materials-eleme...  50.16       RELEVANT   \n",
       "8   https://storage.googleapis.com/materials-eleme...  65.39       RELEVANT   \n",
       "9   https://storage.googleapis.com/materials-eleme...  79.95       RELEVANT   \n",
       "10  https://storage.googleapis.com/materials-eleme...  51.25       RELEVANT   \n",
       "11  https://storage.googleapis.com/materials-eleme...  75.10       RELEVANT   \n",
       "12  https://storage.googleapis.com/materials-eleme...  65.13       RELEVANT   \n",
       "13  https://storage.googleapis.com/materials-eleme...  86.51       RELEVANT   \n",
       "14  https://storage.googleapis.com/materials-eleme...  69.54       RELEVANT   \n",
       "15  https://storage.googleapis.com/materials-eleme...  74.35       RELEVANT   \n",
       "16  https://storage.googleapis.com/materials-eleme...  82.84       RELEVANT   \n",
       "17  https://storage.googleapis.com/materials-eleme...  95.76       RELEVANT   \n",
       "18  https://storage.googleapis.com/materials-eleme...  87.15       RELEVANT   \n",
       "19  https://storage.googleapis.com/materials-eleme...  65.74       RELEVANT   \n",
       "\n",
       "             created_at  total_time  word_count  \n",
       "0   2023-09-18 22:02:30        4.08         7.0  \n",
       "1   2023-09-18 22:02:48        4.28         7.0  \n",
       "2   2023-09-18 22:03:03        3.42         5.0  \n",
       "3   2023-09-18 22:03:18        3.62         5.0  \n",
       "4   2023-09-18 22:03:34        4.40         6.0  \n",
       "5   2023-09-18 22:03:50        3.86         7.0  \n",
       "6   2023-09-18 22:04:05        4.38         7.0  \n",
       "7   2023-09-18 22:04:18        2.76         4.0  \n",
       "8   2023-07-23 23:47:44        4.67         7.0  \n",
       "9   2023-07-23 23:48:04        5.19         4.0  \n",
       "10  2023-07-23 23:48:25        6.21         5.0  \n",
       "11  2023-07-23 23:48:41        3.73         8.0  \n",
       "12  2023-07-23 23:48:55        5.53         9.0  \n",
       "13  2023-07-23 23:49:11        3.91         8.0  \n",
       "14  2023-07-23 23:49:27        5.87        12.0  \n",
       "15  2023-07-23 23:49:47        4.84         8.0  \n",
       "16  2023-07-23 23:50:00        3.73         4.0  \n",
       "17  2023-07-23 23:50:12        4.25         7.0  \n",
       "18  2023-07-23 23:50:26        3.82         6.0  \n",
       "19  2023-07-23 23:50:42        4.76         8.0  "
      ]
     },
     "execution_count": 3,
     "metadata": {},
     "output_type": "execute_result"
    }
   ],
   "source": [
    "audio_dir = \"/data/audio_data/prep_submission_audio/12\"\n",
    "metadata_path=\"/data/audio_data/pronunciation_scoring_result/dataset/info_out_domain_long_sentence_testset.csv\"\n",
    "metadata = pd.read_csv(metadata_path)\n",
    "metadata.dropna(inplace=True)\n",
    "metadata.head(20)"
   ]
  },
  {
   "cell_type": "code",
   "execution_count": 47,
   "metadata": {},
   "outputs": [
    {
     "data": {
      "application/vnd.jupyter.widget-view+json": {
       "model_id": "4c4d7c05462142ca923a209c0a0ff79a",
       "version_major": 2,
       "version_minor": 0
      },
      "text/plain": [
       "VBox(children=(HBox(children=(IntProgress(value=0, description='0.00%', max=3429), Label(value='0 / 3429'))), …"
      ]
     },
     "metadata": {},
     "output_type": "display_data"
    },
    {
     "name": "stdout",
     "output_type": "stream",
     "text": [
      "(34285, 13)\n",
      "(34284, 13)\n"
     ]
    }
   ],
   "source": [
    "def check_audio_is_exist(audio_id):\n",
    "    abs_path = os.path.join(audio_dir, f'{audio_id}.wav')\n",
    "    if os.path.exists(abs_path):\n",
    "        return True\n",
    "    return False\n",
    "\n",
    "metadata[\"is_exist\"] =  metadata.id.parallel_apply(check_audio_is_exist)\n",
    "print(metadata.shape)\n",
    "metadata = metadata[metadata[\"is_exist\"] == True]\n",
    "print(metadata.shape)"
   ]
  },
  {
   "cell_type": "code",
   "execution_count": 48,
   "metadata": {},
   "outputs": [
    {
     "data": {
      "application/vnd.jupyter.widget-view+json": {
       "model_id": "a06a11a2801049c5a65bcb5908bff83c",
       "version_major": 2,
       "version_minor": 0
      },
      "text/plain": [
       "VBox(children=(HBox(children=(IntProgress(value=0, description='0.00%', max=3429), Label(value='0 / 3429'))), …"
      ]
     },
     "metadata": {},
     "output_type": "display_data"
    },
    {
     "data": {
      "text/plain": [
       "<Axes: >"
      ]
     },
     "execution_count": 48,
     "metadata": {},
     "output_type": "execute_result"
    },
    {
     "data": {
      "image/png": "[encoded data removed]",
      "text/plain": [
       "<Figure size 640x480 with 1 Axes>"
      ]
     },
     "metadata": {},
     "output_type": "display_data"
    }
   ],
   "source": [
    "def get_decision(json_path):\n",
    "    with open(json_path, \"r\") as f:\n",
    "        raw_sample = json.load(f)\n",
    "\n",
    "    if \"api_version\" not in raw_sample:\n",
    "        return None\n",
    "            \n",
    "    utterance = raw_sample[\"utterance\"][0]    \n",
    "    decisions = []\n",
    "\n",
    "    for word in utterance[\"words\"]:\n",
    "        decisions.append(word[\"decision\"])\n",
    "\n",
    "    return decisions\n",
    "    \n",
    "json_dir = \"/data/audio_data/pronunciation_scoring_result/marking_data/12\"\n",
    "decisions = metadata.id.parallel_apply(lambda x: get_decision(os.path.join(json_dir, f'{x}.json')))\n",
    "decisions = decisions.explode()\n",
    "decisions.hist()"
   ]
  },
  {
   "cell_type": "code",
   "execution_count": 49,
   "metadata": {},
   "outputs": [
    {
     "data": {
      "application/vnd.jupyter.widget-view+json": {
       "model_id": "92bcd554ded4405d920a6c41cc9a958f",
       "version_major": 2,
       "version_minor": 0
      },
      "text/plain": [
       "VBox(children=(HBox(children=(IntProgress(value=0, description='0.00%', max=3429), Label(value='0 / 3429'))), …"
      ]
     },
     "metadata": {},
     "output_type": "display_data"
    },
    {
     "data": {
      "text/plain": [
       "<Axes: >"
      ]
     },
     "execution_count": 49,
     "metadata": {},
     "output_type": "execute_result"
    },
    {
     "data": {
      "image/png": "[encoded data removed]",
      "text/plain": [
       "<Figure size 640x480 with 1 Axes>"
      ]
     },
     "metadata": {},
     "output_type": "display_data"
    }
   ],
   "source": [
    "def get_decision(json_path):\n",
    "    with open(json_path, \"r\") as f:\n",
    "        raw_sample = json.load(f)\n",
    "\n",
    "    if \"api_version\" not in raw_sample:\n",
    "        return None\n",
    "            \n",
    "    utterance = raw_sample[\"utterance\"][0]    \n",
    "    decisions = []\n",
    "\n",
    "    for word in utterance[\"words\"]:\n",
    "        for phoneme in word[\"phonemes\"]:\n",
    "            decisions.append(phoneme[\"decision\"])\n",
    "\n",
    "    return decisions\n",
    "    \n",
    "json_dir = \"/data/audio_data/pronunciation_scoring_result/marking_data/12\"\n",
    "decisions = metadata.id.parallel_apply(lambda x: get_decision(os.path.join(json_dir, f'{x}.json')))\n",
    "decisions = decisions.explode()\n",
    "decisions.hist()"
   ]
  },
  {
   "cell_type": "code",
   "execution_count": 50,
   "metadata": {},
   "outputs": [
    {
     "data": {
      "application/vnd.jupyter.widget-view+json": {
       "model_id": "0ab702f42e0d4172aa587b6a262fe200",
       "version_major": 2,
       "version_minor": 0
      },
      "text/plain": [
       "VBox(children=(HBox(children=(IntProgress(value=0, description='0.00%', max=3429), Label(value='0 / 3429'))), …"
      ]
     },
     "metadata": {},
     "output_type": "display_data"
    },
    {
     "data": {
      "text/plain": [
       "<Axes: >"
      ]
     },
     "execution_count": 50,
     "metadata": {},
     "output_type": "execute_result"
    },
    {
     "data": {
      "image/png": "[encoded data removed]",
      "text/plain": [
       "<Figure size 640x480 with 1 Axes>"
      ]
     },
     "metadata": {},
     "output_type": "display_data"
    }
   ],
   "source": [
    "def get_phoneme_error(json_path):\n",
    "    try:\n",
    "        with open(json_path, \"r\") as f:\n",
    "            raw_sample = json.load(f)\n",
    "\n",
    "        if \"api_version\" not in raw_sample:\n",
    "            return None\n",
    "                \n",
    "        utterance = raw_sample[\"utterance\"][0]    \n",
    "        phoneme_errors = []\n",
    "\n",
    "        for word in utterance[\"words\"]:\n",
    "            for phoneme in word[\"phonemes\"]:\n",
    "                if phoneme[\"phoneme_error\"] == \"normal\":\n",
    "                    phoneme_errors.append(phoneme[\"phoneme_error\"])\n",
    "                elif \"-\" in phoneme[\"phoneme_error\"]:\n",
    "                    phoneme_errors.append(\"other\")\n",
    "                else:\n",
    "                    phoneme_errors.append(phoneme[\"phoneme_error\"])\n",
    "                    \n",
    "        return phoneme_errors\n",
    "    except:\n",
    "        return None\n",
    "    \n",
    "json_dir = \"/data/audio_data/pronunciation_scoring_result/marking_data/12\"\n",
    "phoneme_errors = metadata.id.parallel_apply(lambda x: get_phoneme_error(os.path.join(json_dir, f'{x}.json')))\n",
    "phoneme_errors = phoneme_errors.explode()\n",
    "phoneme_errors.hist()"
   ]
  },
  {
   "cell_type": "code",
   "execution_count": 51,
   "metadata": {},
   "outputs": [
    {
     "data": {
      "application/vnd.jupyter.widget-view+json": {
       "model_id": "c58d32d9936e41338c3262b2cb149caa",
       "version_major": 2,
       "version_minor": 0
      },
      "text/plain": [
       "VBox(children=(HBox(children=(IntProgress(value=0, description='0.00%', max=3429), Label(value='0 / 3429'))), …"
      ]
     },
     "metadata": {},
     "output_type": "display_data"
    },
    {
     "name": "stdout",
     "output_type": "stream",
     "text": [
      "(34284, 13)\n",
      "(19598, 13)\n"
     ]
    }
   ],
   "source": [
    "def is_valid_phoneme(phoneme):\n",
    "    if phoneme[\"phoneme_error_arpabet\"] != \"normal\":\n",
    "        trans = phoneme[\"phoneme_error_arpabet\"].split(\" - \")[-1]\n",
    "        if len(trans.split(\" \")) >= 2:\n",
    "            return False\n",
    "    return True\n",
    "\n",
    "def extract_user_trans(phoneme):\n",
    "    valid = True\n",
    "    if phoneme[\"phoneme_error_arpabet\"] != \"normal\":\n",
    "        arpa, trans = phoneme[\"phoneme_error_arpabet\"].split(\" - \")\n",
    "        \n",
    "        try:\n",
    "            assert arpa == phoneme[\"trans_arpabet\"]\n",
    "        except:\n",
    "            valid = False\n",
    "            # print(phoneme[\"phoneme_error_arpabet\"], phoneme[\"trans_arpabet\"])\n",
    "    else:\n",
    "        arpa, trans = phoneme[\"trans_arpabet\"], phoneme[\"trans_arpabet\"]\n",
    "\n",
    "    return arpa, trans, valid\n",
    "        \n",
    "            \n",
    "def parse_metadata_data(json_path):\n",
    "    # try:\n",
    "        with open(json_path, \"r\") as f:\n",
    "            raw_sample = json.load(f)\n",
    "\n",
    "        if \"api_version\" not in raw_sample:\n",
    "            return None\n",
    "        \n",
    "        assert len(raw_sample[\"utterance\"]) == 1\n",
    "        \n",
    "         \n",
    "        words, phonemes = [], []\n",
    "        utterance = raw_sample[\"utterance\"][0] \n",
    "        for word in utterance[\"words\"]:\n",
    "                        \n",
    "            _phonemes, _trans_phonemes = [], []\n",
    "            for phoneme in word[\"phonemes\"]:\n",
    "                if not is_valid_phoneme(phoneme):\n",
    "                    return None\n",
    "            \n",
    "                arpa, trans, valid = extract_user_trans(phoneme)\n",
    "                if valid == False:\n",
    "                    return None\n",
    "                text = phoneme[\"text\"]\n",
    "                # score = phone_decision_to_score[phoneme[\"decision\"]]\n",
    "                score = phoneme[\"nativeness_score\"]\n",
    "\n",
    "                _phoneme = {\n",
    "                    \"text\": text,\n",
    "                    \"trans\": trans,\n",
    "                    \"arpa\": arpa,\n",
    "                    \"score\": score,\n",
    "                }\n",
    "                _phonemes.append(_phoneme)\n",
    "                _trans_phonemes.append(trans)\n",
    "            phonemes.append(_phonemes)\n",
    "\n",
    "            text = word[\"text\"]\n",
    "            arpa = word[\"trans_arpabet\"]\n",
    "            trans = \" \".join(_trans_phonemes).replace(\"SCHWA\", \"AH\")\n",
    "            # score = word_decision_to_score[word[\"decision\"]]\n",
    "            score = word[\"nativeness_score\"]\n",
    "\n",
    "            word = {\n",
    "                \"text\": text,\n",
    "                \"arpa\": arpa,\n",
    "                \"trans\": trans,\n",
    "                \"score\": score\n",
    "            }\n",
    "\n",
    "            words.append(word)\n",
    "                \n",
    "        metadata = {\n",
    "            \"words\": words,\n",
    "            \"phonemes\": phonemes,\n",
    "            \"utterance\": utterance[\"nativeness_score\"]\n",
    "        }\n",
    "\n",
    "        return json.dumps(metadata, ensure_ascii=False)\n",
    "    # except:\n",
    "    #     return None\n",
    "    \n",
    "json_dir = \"/data/audio_data/pronunciation_scoring_result/marking_data/12\"\n",
    "metadata[\"score\"] = metadata.id.parallel_apply(lambda x: parse_metadata_data(os.path.join(json_dir, f'{x}.json')))\n",
    "\n",
    "print(metadata.shape)\n",
    "metadata = metadata[metadata[\"score\"].notna()]\n",
    "print(metadata.shape)\n",
    "\n",
    "# metadata.head(100000).id.apply(lambda x: parse_metadata_data(os.path.join(json_dir, f'{x}.json')))"
   ]
  },
  {
   "cell_type": "code",
   "execution_count": 52,
   "metadata": {},
   "outputs": [
    {
     "data": {
      "text/plain": [
       "<Axes: >"
      ]
     },
     "execution_count": 52,
     "metadata": {},
     "output_type": "execute_result"
    },
    {
     "data": {
      "image/png": "[encoded data removed]",
      "text/plain": [
       "<Figure size 640x480 with 1 Axes>"
      ]
     },
     "metadata": {},
     "output_type": "display_data"
    }
   ],
   "source": [
    "def get_phone_score(score):\n",
    "    phone_scores = []\n",
    "    score = json.loads(score)\n",
    "    for words in score[\"phonemes\"]:\n",
    "        for phoneme in words:\n",
    "            phone_scores.append(phoneme[\"score\"])\n",
    "\n",
    "    return phone_scores\n",
    "\n",
    "tmp = metadata.score.apply(lambda x: get_phone_score(x))\n",
    "tmp = tmp.explode()\n",
    "tmp.hist(bins=100)"
   ]
  },
  {
   "cell_type": "code",
   "execution_count": 53,
   "metadata": {},
   "outputs": [
    {
     "data": {
      "application/vnd.jupyter.widget-view+json": {
       "model_id": "04902d23c8b74fb1a8f0431de299efa4",
       "version_major": 2,
       "version_minor": 0
      },
      "text/plain": [
       "VBox(children=(HBox(children=(IntProgress(value=0, description='0.00%', max=1960), Label(value='0 / 1960'))), …"
      ]
     },
     "metadata": {},
     "output_type": "display_data"
    },
    {
     "data": {
      "text/plain": [
       "<Axes: >"
      ]
     },
     "execution_count": 53,
     "metadata": {},
     "output_type": "execute_result"
    },
    {
     "data": {
      "image/png": "[encoded data removed]",
      "text/plain": [
       "<Figure size 640x480 with 1 Axes>"
      ]
     },
     "metadata": {},
     "output_type": "display_data"
    }
   ],
   "source": [
    "def get_word_score(score):\n",
    "    word_scores = []\n",
    "    score = json.loads(score)\n",
    "    for words in score[\"words\"]:\n",
    "        word_scores.append(words[\"score\"])\n",
    "\n",
    "    return word_scores\n",
    "\n",
    "tmp = metadata.score.parallel_apply(lambda x: get_word_score(x))\n",
    "tmp = tmp.explode()\n",
    "tmp.hist(bins=100)"
   ]
  },
  {
   "cell_type": "code",
   "execution_count": 54,
   "metadata": {},
   "outputs": [
    {
     "data": {
      "application/vnd.jupyter.widget-view+json": {
       "model_id": "6ef9868d9c9b4a348cdd6d2a796bc70f",
       "version_major": 2,
       "version_minor": 0
      },
      "text/plain": [
       "VBox(children=(HBox(children=(IntProgress(value=0, description='0.00%', max=1960), Label(value='0 / 1960'))), …"
      ]
     },
     "metadata": {},
     "output_type": "display_data"
    },
    {
     "data": {
      "text/plain": [
       "<Axes: >"
      ]
     },
     "execution_count": 54,
     "metadata": {},
     "output_type": "execute_result"
    },
    {
     "data": {
      "image/png": "[encoded data removed]",
      "text/plain": [
       "<Figure size 640x480 with 1 Axes>"
      ]
     },
     "metadata": {},
     "output_type": "display_data"
    }
   ],
   "source": [
    "def get_sent_score(score):\n",
    "    score = json.loads(score)[\"utterance\"]\n",
    "\n",
    "    return score\n",
    "\n",
    "tmp = metadata.score.parallel_apply(lambda x: get_sent_score(x))\n",
    "tmp.hist(bins=100)"
   ]
  },
  {
   "cell_type": "code",
   "execution_count": 55,
   "metadata": {},
   "outputs": [],
   "source": [
    "def preprocess_text(text):\n",
    "    text = re.sub(\"[\\,\\.\\;\\:\\!\\?]\", \" \", text)\n",
    "    text = text.upper()\n",
    "    text = text.strip()\n",
    "    return text\n",
    "metadata[\"question_content\"] = metadata.question_content.apply(preprocess_text)"
   ]
  },
  {
   "cell_type": "code",
   "execution_count": 56,
   "metadata": {},
   "outputs": [],
   "source": [
    "# lexicon_path = \"resources/lexicon.txt\"\n",
    "# lexicon = pd.read_csv(lexicon_path, sep=\"\\t\", names=[\"word\", \"arpa\"])\n",
    "# lexicon.head()\n",
    "\n",
    "# vocab = {}\n",
    "# for index in lexicon.index:\n",
    "#     word = lexicon[\"word\"][index]\n",
    "#     arpa = lexicon[\"arpa\"][index]\n",
    "\n",
    "#     if word not in vocab:\n",
    "#         vocab[word] = [arpa, ]\n",
    "#     else:\n",
    "#         vocab[word].append(arpa)\n"
   ]
  },
  {
   "cell_type": "code",
   "execution_count": 57,
   "metadata": {},
   "outputs": [],
   "source": [
    "lexicon_path = \"resources/lexicon.txt\"\n",
    "vocab = {}\n",
    "with open(lexicon_path, \"r\", encoding=\"utf-8\") as f:\n",
    "    lines = f.readlines()\n",
    "    lines.reverse()\n",
    "    lines = [line.strip().split() for line in lines]\n",
    "    lines = [[line[0], \" \".join(line[1:])] for line in lines]\n",
    "    \n",
    "    for word, phoneme in lines:\n",
    "        vocab[word] = phoneme\n",
    "        "
   ]
  },
  {
   "cell_type": "code",
   "execution_count": 58,
   "metadata": {},
   "outputs": [
    {
     "name": "stdout",
     "output_type": "stream",
     "text": [
      "(19598, 14)\n",
      "(1317, 15)\n"
     ]
    }
   ],
   "source": [
    "def filter_data(text, words):\n",
    "    words = json.loads(words)[\"words\"]\n",
    "    if len(text.split()) != len(words):\n",
    "        return False\n",
    "    for word, phoneme in zip(text.upper().split(), words):\n",
    "        if word not in vocab:\n",
    "            return False\n",
    "        if phoneme[\"arpa\"] not in vocab[word]:\n",
    "            return False\n",
    "    \n",
    "    return True\n",
    "metadata[\"is_selected\"] = metadata.apply(lambda x: filter_data(x[\"question_content\"], x[\"score\"]), axis=1)\n",
    "print(metadata.shape)\n",
    "metadata = metadata[metadata[\"is_selected\"]==True].reset_index()\n",
    "print(metadata[metadata[\"is_selected\"]==True].shape)\n"
   ]
  },
  {
   "cell_type": "code",
   "execution_count": 59,
   "metadata": {},
   "outputs": [],
   "source": [
    "# metadata[[\"user_id\", \"id\", \"question_content\", \"score\", \"question_id\"]].to_csv(\"/data/codes/prep_ps_pykaldi/prep_data/raw/info_out_domain_short_sentence_testset.csv\")\n",
    "metadata[[\"user_id\", \"id\", \"question_content\", \"score\", \"question_id\"]].to_csv(\"/data/codes/prep_ps_pykaldi/prep_data/raw/info_out_domain_long_sentence_testset_old.csv\")"
   ]
  }
 ],
 "metadata": {
  "kernelspec": {
   "display_name": "ps",
   "language": "python",
   "name": "python3"
  },
  "language_info": {
   "codemirror_mode": {
    "name": "ipython",
    "version": 3
   },
   "file_extension": ".py",
   "mimetype": "text/x-python",
   "name": "python",
   "nbconvert_exporter": "python",
   "pygments_lexer": "ipython3",
   "version": "3.8.17"
  },
  "orig_nbformat": 4
 },
 "nbformat": 4,
 "nbformat_minor": 2
}
