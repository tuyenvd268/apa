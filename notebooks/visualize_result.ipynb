{
 "cells": [
  {
   "cell_type": "code",
   "execution_count": null,
   "metadata": {},
   "outputs": [],
   "source": [
    "import json\n",
    "import pandas as pd\n",
    "import numpy as np\n",
    "from sklearn.metrics import (\n",
    "    classification_report, \n",
    "    confusion_matrix, \n",
    "    ConfusionMatrixDisplay\n",
    ")\n",
    "from matplotlib import pyplot as plt\n",
    "import os\n",
    "import torch"
   ]
  },
  {
   "cell_type": "code",
   "execution_count": null,
   "metadata": {},
   "outputs": [],
   "source": [
    "def convert_score_to_color(score, YELLOW_GREEN=75/50, RED_YELLOW=30/50):\n",
    "    LABEL2ID = {\"GREEN\": 0, \"YELLOW\": 1, \"RED\":2}\n",
    "    red_index = score < RED_YELLOW\n",
    "    yellow_index = ((score >= RED_YELLOW).int() & (score < YELLOW_GREEN).int()).bool()\n",
    "    green_index = score >= YELLOW_GREEN\n",
    "\n",
    "    score[red_index] = LABEL2ID[\"RED\"]\n",
    "    score[yellow_index] = LABEL2ID[\"YELLOW\"]\n",
    "    score[green_index] = LABEL2ID[\"GREEN\"]\n",
    "\n",
    "    return score\n",
    "\n",
    "def load_pred_and_label(pred_path, label_path):\n",
    "    pred = np.load(pred_path)\n",
    "    label = np.load(label_path)\n",
    "\n",
    "    pred = np.concatenate(pred)\n",
    "    label = np.concatenate(label)\n",
    "    index = label != -1    \n",
    "    print(index.shape, pred.shape, label.shape)\n",
    "    \n",
    "    return label[index], pred[index]\n",
    "def cal_f1(pred_path, label_path, YELLOW_GREEN=80/50, RED_YELLOW=35/50):\n",
    "    label, pred = load_pred_and_label(pred_path=pred_path, label_path=label_path)\n",
    "    \n",
    "    actual = convert_score_to_color(torch.from_numpy(label), YELLOW_GREEN=YELLOW_GREEN, RED_YELLOW=RED_YELLOW)\n",
    "    predicted = convert_score_to_color(torch.from_numpy(pred), YELLOW_GREEN=YELLOW_GREEN, RED_YELLOW=RED_YELLOW)\n",
    "    \n",
    "    result = classification_report(y_true=actual, y_pred=predicted)\n",
    "    cfs_mtr = confusion_matrix(actual, predicted)\n",
    "    print(result)\n",
    "    \n",
    "    cfs_mtr = cfs_mtr / cfs_mtr.sum(axis=1, keepdims=True)\n",
    "    cm_display = ConfusionMatrixDisplay(confusion_matrix = cfs_mtr, display_labels = [\"GREEN\", \"YELLOW\", \"RED\"])\n",
    "    \n",
    "\n",
    "    return result, cm_display.plot(cmap='Blues')\n",
    "    \n",
    "pred_path = \"/data/codes/prep_ps_pykaldi/exp/ckpts/in_long_old/ckpts-eph=21-mse=0.16509999334812164/phn_pred.npy\"\n",
    "label_path = \"/data/codes/prep_ps_pykaldi/exp/ckpts/in_long_old/ckpts-eph=21-mse=0.16509999334812164/phn_label.npy\"\n",
    "\n",
    "res, cm_display = cal_f1(pred_path=pred_path, label_path=label_path, YELLOW_GREEN=70/50, RED_YELLOW=30/50)\n",
    "plt.title(\"In domain - Long sentence (Old)\")\n",
    "plt.show() "
   ]
  },
  {
   "cell_type": "code",
   "execution_count": 19,
   "metadata": {},
   "outputs": [
    {
     "name": "stdout",
     "output_type": "stream",
     "text": [
      "(720640,) (720640,) (720640,)\n",
      "              precision    recall  f1-score   support\n",
      "\n",
      "         0.0       0.93      0.90      0.92    100318\n",
      "         1.0       0.69      0.77      0.73     28605\n",
      "\n",
      "    accuracy                           0.87    128923\n",
      "   macro avg       0.81      0.83      0.82    128923\n",
      "weighted avg       0.88      0.87      0.87    128923\n",
      "\n"
     ]
    },
    {
     "data": {
      "image/png": "[encoded data removed]",
      "text/plain": [
       "<Figure size 640x480 with 2 Axes>"
      ]
     },
     "metadata": {},
     "output_type": "display_data"
    }
   ],
   "source": [
    "def convert_score_to_color(score, YELLOW_GREEN=75/50, RED_YELLOW=30/50):\n",
    "    LABEL2ID = {\"GREEN\": 0, \"YELLOW\": 1, \"RED\":1}\n",
    "    red_index = score < RED_YELLOW\n",
    "    yellow_index = ((score >= RED_YELLOW).int() & (score < YELLOW_GREEN).int()).bool()\n",
    "    green_index = score >= YELLOW_GREEN\n",
    "\n",
    "    score[red_index] = LABEL2ID[\"RED\"]\n",
    "    score[yellow_index] = LABEL2ID[\"YELLOW\"]\n",
    "    score[green_index] = LABEL2ID[\"GREEN\"]\n",
    "\n",
    "    return score\n",
    "\n",
    "def load_pred_and_label(pred_path, label_path):\n",
    "    pred = np.load(pred_path)\n",
    "    label = np.load(label_path)\n",
    "\n",
    "    pred = np.concatenate(pred)\n",
    "    label = np.concatenate(label)\n",
    "    index = label != -1    \n",
    "    print(index.shape, pred.shape, label.shape)\n",
    "    \n",
    "    return label[index], pred[index]\n",
    "def cal_f1(pred_path, label_path, YELLOW_GREEN=70/50, RED_YELLOW=35/50):\n",
    "    label, pred = load_pred_and_label(pred_path=pred_path, label_path=label_path)\n",
    "    \n",
    "    actual = convert_score_to_color(torch.from_numpy(label), YELLOW_GREEN=YELLOW_GREEN, RED_YELLOW=RED_YELLOW)\n",
    "    predicted = convert_score_to_color(torch.from_numpy(pred), YELLOW_GREEN=YELLOW_GREEN, RED_YELLOW=RED_YELLOW)\n",
    "    \n",
    "    result = classification_report(y_true=actual, y_pred=predicted)\n",
    "    cfs_mtr = confusion_matrix(actual, predicted)\n",
    "    print(result)\n",
    "    \n",
    "    cfs_mtr = cfs_mtr / cfs_mtr.sum(axis=1, keepdims=True)\n",
    "    cm_display = ConfusionMatrixDisplay(confusion_matrix = cfs_mtr, display_labels = [\"GREEN\", \"YELLOW\"])\n",
    "    \n",
    "\n",
    "    return result, cm_display.plot(cmap='Blues')\n",
    "    \n",
    "pred_path = \"/data/codes/prep_ps_pykaldi/exp/ckpts/in_long_old/ckpts-eph=37-mse=0.16539999842643738/phn_pred.npy\"\n",
    "label_path = \"/data/codes/prep_ps_pykaldi/exp/ckpts/in_long_old/ckpts-eph=37-mse=0.16539999842643738/phn_label.npy\"\n",
    "\n",
    "res, cm_display = cal_f1(pred_path=pred_path, label_path=label_path, YELLOW_GREEN=70/50, RED_YELLOW=30/50)\n",
    "plt.title(\"In domain - Long sentence\")\n",
    "plt.show() "
   ]
  },
  {
   "cell_type": "code",
   "execution_count": 20,
   "metadata": {},
   "outputs": [
    {
     "name": "stdout",
     "output_type": "stream",
     "text": [
      "(22520,) (22520,) (22520,)\n",
      "              precision    recall  f1-score   support\n",
      "\n",
      "         0.0       0.00      0.00      0.00         0\n",
      "         1.0       1.00      0.66      0.80     22520\n",
      "\n",
      "    accuracy                           0.66     22520\n",
      "   macro avg       0.50      0.33      0.40     22520\n",
      "weighted avg       1.00      0.66      0.80     22520\n",
      "\n"
     ]
    }
   ],
   "source": [
    "import numpy as np\n",
    "from sklearn.metrics import classification_report\n",
    "\n",
    "def load_pred_and_label(pred_path, label_path):\n",
    "    pred = np.load(pred_path)\n",
    "    label = np.load(label_path)\n",
    "\n",
    "    pred = np.concatenate(pred)\n",
    "    label = np.concatenate(label)\n",
    "    index = label != -1    \n",
    "    print(index.shape, pred.shape, label.shape)\n",
    "    \n",
    "    return label[index], pred[index]\n",
    "\n",
    "def cal_utt_acc(pred, label, threshold=10/50):\n",
    "    _temp = np.abs(pred-label)\n",
    "    \n",
    "    pred = _temp < threshold\n",
    "    label = np.ones_like(_temp)\n",
    "    \n",
    "    print(classification_report(y_true=label, y_pred=pred, zero_division=0))\n",
    "\n",
    "pred_path = \"/data/codes/prep_ps_pykaldi/exp/ckpts/in_long_old/ckpts-eph=37-mse=0.16539999842643738/utt_pred.npy\"\n",
    "label_path = \"/data/codes/prep_ps_pykaldi/exp/ckpts/in_long_old/ckpts-eph=37-mse=0.16539999842643738/utt_label.npy\"\n",
    "label, pred = load_pred_and_label(pred_path=pred_path, label_path=label_path)\n",
    "cal_utt_acc(pred=pred, label=label)"
   ]
  },
  {
   "cell_type": "code",
   "execution_count": null,
   "metadata": {},
   "outputs": [],
   "source": [
    "pred_path = \"/data/codes/prep_ps_pykaldi/exp/ckpts/in_long_old/ckpts-eph=37-mse=0.16539999842643738/utt_pred.npy\"\n",
    "label_path = \"/data/codes/prep_ps_pykaldi/exp/ckpts/in_long_old/ckpts-eph=37-mse=0.16539999842643738/utt_label.npy\"\n",
    "label, pred = load_pred_and_label(pred_path=pred_path, label_path=label_path)\n",
    "cal_utt_acc(pred=pred, label=label)"
   ]
  },
  {
   "cell_type": "code",
   "execution_count": null,
   "metadata": {},
   "outputs": [],
   "source": [
    "pred_path = \"/data/codes/prep_ps_pykaldi/exp/ckpts/in_long_old/ckpts-eph=47-mse=0.16459999978542328/utt_pred.npy\"\n",
    "label_path = \"/data/codes/prep_ps_pykaldi/exp/ckpts/in_long_old/ckpts-eph=47-mse=0.16459999978542328/utt_label.npy\"\n",
    "label, pred = load_pred_and_label(pred_path=pred_path, label_path=label_path)\n",
    "cal_utt_acc(pred=pred, label=label)"
   ]
  }
 ],
 "metadata": {
  "kernelspec": {
   "display_name": "ps",
   "language": "python",
   "name": "python3"
  },
  "language_info": {
   "codemirror_mode": {
    "name": "ipython",
    "version": 3
   },
   "file_extension": ".py",
   "mimetype": "text/x-python",
   "name": "python",
   "nbconvert_exporter": "python",
   "pygments_lexer": "ipython3",
   "version": "3.8.17"
  }
 },
 "nbformat": 4,
 "nbformat_minor": 2
}
