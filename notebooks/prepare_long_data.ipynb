{
 "cells": [
  {
   "cell_type": "code",
   "execution_count": null,
   "metadata": {},
   "outputs": [],
   "source": [
    "%cd /data/codes/prep_ps_pykaldi\n",
    "\n",
    "import pandas as pd\n",
    "import os\n",
    "from glob import glob\n",
    "import json\n",
    "from pandarallel import pandarallel\n",
    "import random\n",
    "import re\n",
    "\n",
    "pandarallel.initialize(nb_workers=10, progress_bar=True)"
   ]
  },
  {
   "cell_type": "code",
   "execution_count": null,
   "metadata": {},
   "outputs": [],
   "source": [
    "audio_dir = \"/data/audio_data/prep_submission_audio/9\"\n",
    "metadata_path=\"/data/audio_data/pronunciation_scoring_result/merged_info/info_question_type-9_01082022_18092023.csv\"\n",
    "metadata = pd.read_csv(metadata_path)\n",
    "metadata.head(2)"
   ]
  },
  {
   "cell_type": "code",
   "execution_count": null,
   "metadata": {},
   "outputs": [],
   "source": [
    "def check_audio_is_exist(audio_id):\n",
    "    abs_path = os.path.join(audio_dir, f'{audio_id}.wav')\n",
    "    if os.path.exists(abs_path):\n",
    "        return True\n",
    "    return False\n",
    "\n",
    "metadata[\"is_exist\"] =  metadata.id.parallel_apply(check_audio_is_exist)\n",
    "metadata = metadata[metadata[\"is_exist\"]]"
   ]
  },
  {
   "cell_type": "code",
   "execution_count": null,
   "metadata": {},
   "outputs": [],
   "source": [
    "lexicon_path = \"/data/codes/prep_ps_pykaldi/resources/lexicon.txt\"\n",
    "vocab = pd.read_csv(lexicon_path, sep=\"\\t\", names=[\"word\", \"arpa\"])\n",
    "lexicon = {}\n",
    "for name, group in vocab.groupby(\"word\"):\n",
    "    lexicon[name] = group[\"arpa\"].tolist()"
   ]
  },
  {
   "cell_type": "code",
   "execution_count": null,
   "metadata": {},
   "outputs": [],
   "source": [
    "def is_valid_phoneme(phoneme):\n",
    "    if phoneme[\"phoneme_error_arpabet\"] != \"normal\":\n",
    "        trans = phoneme[\"phoneme_error_arpabet\"].split(\" - \")[-1]\n",
    "        if len(trans.split(\" \")) >= 2:\n",
    "            return False\n",
    "    return True\n",
    "\n",
    "def norm_text(text):\n",
    "    text = re.sub(r\"[\\,\\.\\!\\?\\:\\;]\", \" \", text)\n",
    "    text = re.sub(\"\\s+\", \" \", text).strip()\n",
    "    text = text.upper()\n",
    "\n",
    "    return text\n",
    "            \n",
    "def parse_metadata_data(json_path):\n",
    "    try: \n",
    "        with open(json_path, \"r\") as f:\n",
    "            content = json.load(f)\n",
    "        id = os.path.basename(json_path).split(\".\")[0]\n",
    "\n",
    "        utterances = []\n",
    "        for raw_utterance in content[\"utterances\"]:\n",
    "            utterance = {\n",
    "                \"id\": id,\n",
    "                \"text\": norm_text(raw_utterance[\"text\"]),\n",
    "                \"utt_id\": raw_utterance[\"utterance_id\"],\n",
    "                \"start_time\": raw_utterance[\"start_time\"],\n",
    "                \"end_time\": raw_utterance[\"end_time\"],\n",
    "                \"arpas\": [],\n",
    "                \"trans\": [],\n",
    "                \"phone_scores\": [],\n",
    "                \"word_scores\": [],\n",
    "                \"word_ids\": [],\n",
    "                \"utterance_scores\": raw_utterance[\"result\"][\"nativeness_score\"],\n",
    "            }\n",
    "            ignore = False\n",
    "            for word_id, word in enumerate(raw_utterance[\"result\"][\"words\"]):\n",
    "                if norm_text(word[\"word\"]) not in lexicon:\n",
    "                    ignore = True\n",
    "                    break\n",
    "                if word[\"trans_arpabet\"] not in lexicon[norm_text(word[\"word\"])]:\n",
    "                    ignore = True\n",
    "                    break\n",
    "\n",
    "                for phoneme in word[\"phonemes\"]:\n",
    "                    arpa = phoneme[\"trans_arpabet\"]\n",
    "                    score = phoneme[\"nativeness_score\"]\n",
    "                    tran = phoneme[\"trans_arpabet\"]\n",
    "\n",
    "                    if score <= 0:\n",
    "                        score = 0\n",
    "\n",
    "                    utterance[\"arpas\"].append(arpa)\n",
    "                    utterance[\"phone_scores\"].append(score)\n",
    "                    utterance[\"word_ids\"].append(word_id)\n",
    "                    utterance[\"trans\"].append(tran)\n",
    "\n",
    "                word_score = word[\"nativeness_score\"]\n",
    "                utterance[\"word_scores\"].append(word_score)\n",
    "\n",
    "            if ignore == False:\n",
    "                utterances.append(utterance)\n",
    "\n",
    "\n",
    "        return utterances\n",
    "\n",
    "    except:\n",
    "        return []\n",
    "\n",
    "json_dir = \"/data/audio_data/pronunciation_scoring_result/marking_data/9\"\n",
    "extracted_data = metadata.id.parallel_apply(lambda x: parse_metadata_data(os.path.join(json_dir, f'{x}.json')))\n",
    "extracted_data.head()"
   ]
  },
  {
   "cell_type": "code",
   "execution_count": null,
   "metadata": {},
   "outputs": [],
   "source": [
    "data = extracted_data.explode().reset_index()[\"id\"]\n",
    "data = pd.DataFrame({\"data\": data})\n",
    "data.dropna(inplace=True)\n",
    "data[\"text\"] = data[\"data\"].apply(lambda x: x[\"text\"])\n",
    "data.drop_duplicates(\"text\", inplace=True)\n",
    "data = data.reset_index()[[\"data\"]]\n",
    "data.head()"
   ]
  },
  {
   "cell_type": "code",
   "execution_count": null,
   "metadata": {},
   "outputs": [],
   "source": [
    "scores = data[\"data\"].apply(lambda x: x[\"word_scores\"]).to_list()\n",
    "scores = [score for sample in scores for score in sample]\n",
    "\n",
    "pd.DataFrame(scores, columns=[\"score\"]).score.hist(bins=100)"
   ]
  },
  {
   "cell_type": "code",
   "execution_count": null,
   "metadata": {},
   "outputs": [],
   "source": [
    "scores = data[\"data\"].apply(lambda x: x[\"phone_scores\"]).to_list()\n",
    "scores = [score for sample in scores for score in sample]\n",
    "\n",
    "pd.DataFrame(scores, columns=[\"score\"]).score.hist(bins=100)"
   ]
  },
  {
   "cell_type": "code",
   "execution_count": null,
   "metadata": {},
   "outputs": [],
   "source": [
    "import numpy as np\n",
    "\n",
    "def check_valid(score, threshold=0.35, score_threshold=80):\n",
    "    score = np.array(score)\n",
    "\n",
    "    is_low_score = score < score_threshold\n",
    "\n",
    "    rate = score[is_low_score].shape[0] / (score[is_low_score].shape[0] + score[~is_low_score].shape[0])\n",
    "    if rate > threshold:\n",
    "        return True\n",
    "    \n",
    "    if random.randint(0, 100) > 90:\n",
    "        return True\n",
    "    \n",
    "    return False\n",
    "\n",
    "is_valid = data[\"data\"].apply(lambda x: check_valid(x[\"phone_scores\"]))"
   ]
  },
  {
   "cell_type": "code",
   "execution_count": null,
   "metadata": {},
   "outputs": [],
   "source": [
    "scores = data[is_valid][\"data\"].apply(lambda x: x[\"phone_scores\"]).to_list()\n",
    "scores = [score for sample in scores for score in sample]\n",
    "\n",
    "pd.DataFrame(scores, columns=[\"score\"]).score.hist(bins=100)"
   ]
  },
  {
   "cell_type": "code",
   "execution_count": null,
   "metadata": {},
   "outputs": [],
   "source": [
    "from tqdm import tqdm\n",
    " \n",
    "extracted_data = data[is_valid]\n",
    "path = \"prep_data/jsonl/info_question_type-9_01082022_18092023.jsonl\"\n",
    "with open(path, \"w\", encoding=\"utf-8\") as f:\n",
    "    for index in tqdm(extracted_data.index):\n",
    "        sample = extracted_data.loc[index, \"data\"]\n",
    "        json_obj = json.dumps(sample)\n",
    "\n",
    "        f.write(f'{json_obj}\\n')"
   ]
  },
  {
   "cell_type": "code",
   "execution_count": null,
   "metadata": {},
   "outputs": [],
   "source": [
    "extracted_data[\"data\"][5].keys()"
   ]
  }
 ],
 "metadata": {
  "kernelspec": {
   "display_name": "ps",
   "language": "python",
   "name": "python3"
  },
  "language_info": {
   "codemirror_mode": {
    "name": "ipython",
    "version": 3
   },
   "file_extension": ".py",
   "mimetype": "text/x-python",
   "name": "python",
   "nbconvert_exporter": "python",
   "pygments_lexer": "ipython3",
   "version": "3.8.17"
  }
 },
 "nbformat": 4,
 "nbformat_minor": 2
}
